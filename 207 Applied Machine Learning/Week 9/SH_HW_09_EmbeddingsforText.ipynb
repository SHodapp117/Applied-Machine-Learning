{
  "cells": [
    {
      "cell_type": "markdown",
      "metadata": {
        "id": "MKsRDH5ZUdfasdv"
      },
      "source": [
        "# Lab 9"
      ]
    },
    {
      "cell_type": "markdown",
      "metadata": {
        "id": "zEWSXx5L-eCa"
      },
      "source": [
        "### <span style=\"color:chocolate\"> Submission requirements </span>\n",
        "\n",
        "Additional points may be deducted if these requirements are not met:\n",
        "    \n",
        "* Comment your code\n",
        "* Each graph should have a title, labels for each axis, and (if needed) a legend. Each graph should be understandable on its own\n",
        "* Be sure your submitted notebook includes the output of your run (Hint: go to Kernel -> Restart Kernel and Run All Cells...)\n",
        "* Try and minimize the use of the global namespace (meaning, keep things inside functions)\n",
        "* Upload your .ipynb file to Gradescope when done\n",
        "---"
      ]
    },
    {
      "cell_type": "markdown",
      "metadata": {
        "id": "43534tdfgs-v"
      },
      "source": [
        "In this lab, we'll train models for sentiment classification and experiment with learned embeddings for text features."
      ]
    },
    {
      "cell_type": "code",
      "execution_count": 1,
      "metadata": {
        "id": "7X58hOMTUH-w"
      },
      "outputs": [],
      "source": [
        "# Import the libraries we'll use below.\n",
        "import numpy as np\n",
        "from matplotlib import pyplot as plt\n",
        "import pandas as pd\n",
        "import seaborn as sns  # for nicer plots\n",
        "sns.set(style=\"darkgrid\")  # default style\n",
        "import plotly.graph_objs as plotly  # for interactive plots\n",
        "\n",
        "import tensorflow as tf\n",
        "from tensorflow.keras.datasets import imdb"
      ]
    },
    {
      "cell_type": "markdown",
      "metadata": {
        "id": "eqppUDpmdptk"
      },
      "source": [
        "## Data for Sentiment Classification\n",
        "\n",
        "In this lab, we'll train a *sentiment* classifier for movie reviews. That is, the input is the text of a movie review and the output is the probability the input was a positive review. The target labels are binary, 0 for negative and 1 for positive.\n",
        "\n",
        "Our data includes 50,000 movie reviews on IMDB. The data comes pre-segmented into train and test splits. The [data loading function](https://www.tensorflow.org/api_docs/python/tf/keras/datasets/imdb/load_data) below also splits each input text into tokens (words) and maps the words to integer values. Each input is a sequence of integers corresponding to the words."
      ]
    },
    {
      "cell_type": "code",
      "execution_count": 2,
      "metadata": {
        "colab": {
          "base_uri": "https://localhost:8080/"
        },
        "id": "s6M-asvhQWV_",
        "outputId": "01e085f0-5878-498c-ce0b-e5fd759c05bd"
      },
      "outputs": [
        {
          "output_type": "stream",
          "name": "stdout",
          "text": [
            "X_train.shape: (25000,)\n",
            "Y_train.shape: (25000,)\n",
            "X_test.shape: (25000,)\n",
            "Y_test.shape: (25000,)\n",
            "First training example data: [1, 14, 22, 16, 43, 530, 973, 1622, 1385, 65, 458, 4468, 66, 3941, 4, 173, 36, 256, 5, 25, 100, 43, 838, 112, 50, 670, 22665, 9, 35, 480, 284, 5, 150, 4, 172, 112, 167, 21631, 336, 385, 39, 4, 172, 4536, 1111, 17, 546, 38, 13, 447, 4, 192, 50, 16, 6, 147, 2025, 19, 14, 22, 4, 1920, 4613, 469, 4, 22, 71, 87, 12, 16, 43, 530, 38, 76, 15, 13, 1247, 4, 22, 17, 515, 17, 12, 16, 626, 18, 19193, 5, 62, 386, 12, 8, 316, 8, 106, 5, 4, 2223, 5244, 16, 480, 66, 3785, 33, 4, 130, 12, 16, 38, 619, 5, 25, 124, 51, 36, 135, 48, 25, 1415, 33, 6, 22, 12, 215, 28, 77, 52, 5, 14, 407, 16, 82, 10311, 8, 4, 107, 117, 5952, 15, 256, 4, 31050, 7, 3766, 5, 723, 36, 71, 43, 530, 476, 26, 400, 317, 46, 7, 4, 12118, 1029, 13, 104, 88, 4, 381, 15, 297, 98, 32, 2071, 56, 26, 141, 6, 194, 7486, 18, 4, 226, 22, 21, 134, 476, 26, 480, 5, 144, 30, 5535, 18, 51, 36, 28, 224, 92, 25, 104, 4, 226, 65, 16, 38, 1334, 88, 12, 16, 283, 5, 16, 4472, 113, 103, 32, 15, 16, 5345, 19, 178, 32]\n",
            "First training example label: 1\n"
          ]
        }
      ],
      "source": [
        "(X_train, Y_train), (X_test, Y_test) = imdb.load_data(path=\"imdb.npz\",\n",
        "                                                      num_words=None,\n",
        "                                                      skip_top=0,\n",
        "                                                      maxlen=None,\n",
        "                                                      seed=113,\n",
        "                                                      start_char=1,\n",
        "                                                      oov_char=2,\n",
        "                                                      index_from=3)\n",
        "\n",
        "print(\"X_train.shape:\", X_train.shape)\n",
        "print(\"Y_train.shape:\", Y_train.shape)\n",
        "print(\"X_test.shape:\", X_test.shape)\n",
        "print(\"Y_test.shape:\", Y_test.shape)\n",
        "\n",
        "print('First training example data:', X_train[0])\n",
        "print('First training example label:', Y_train[0])"
      ]
    },
    {
      "cell_type": "markdown",
      "metadata": {
        "id": "MyIWiy-4gQK-"
      },
      "source": [
        "So our first training example is a positive review. But that sequence of integer IDs is hard to read. The data loader provides a dictionary mapping words to IDs. Let's create a reverse index.\n"
      ]
    },
    {
      "cell_type": "code",
      "execution_count": 3,
      "metadata": {
        "colab": {
          "base_uri": "https://localhost:8080/"
        },
        "id": "HQ-qATkhUj7c",
        "outputId": "11a86b8e-cdbf-4732-9e21-a3e4dae82b79"
      },
      "outputs": [
        {
          "output_type": "stream",
          "name": "stdout",
          "text": [
            "Largest ID: 88587\n"
          ]
        }
      ],
      "source": [
        "# The imdb dataset comes with an index mapping words to integers.\n",
        "# In the index the words are ordered by frequency they occur.\n",
        "index = imdb.get_word_index()\n",
        "\n",
        "# Because we used index_from=3 (above), setting aside ids below 3 for special\n",
        "# symbols, we need to add 3 to the index values.\n",
        "index = dict([(key, value+3) for (key, value) in index.items()])\n",
        "\n",
        "# Create a reverse index so we can lookup tokens assigned to each id.\n",
        "reverse_index = dict([(value, key) for (key, value) in index.items()])\n",
        "reverse_index[1] = '<START>'  # start of input\n",
        "reverse_index[2] = '#'        # out-of-vocabulary (OOV)\n",
        "reverse_index[3] = '<UNUSED>'\n",
        "\n",
        "max_id = max(reverse_index.keys())\n",
        "print('Largest ID:', max_id)"
      ]
    },
    {
      "cell_type": "markdown",
      "metadata": {
        "id": "h76-b07ehWNQ"
      },
      "source": [
        "Note that our index (and reverse index) have over 88,000 tokens. That's quite a large vocabulary! Let's also write a decoding function for our data."
      ]
    },
    {
      "cell_type": "code",
      "execution_count": 4,
      "metadata": {
        "colab": {
          "base_uri": "https://localhost:8080/"
        },
        "id": "UjobmouHS5Dm",
        "outputId": "586ca891-6c9c-4ada-be26-4d8abc153508"
      },
      "outputs": [
        {
          "output_type": "stream",
          "name": "stdout",
          "text": [
            "[1, 14, 22, 16, 43, 530, 973, 1622, 1385, 65, 458, 4468, 66, 3941, 4, 173, 36, 256, 5, 25, 100, 43, 838, 112, 50, 670, 22665, 9, 35, 480, 284, 5, 150, 4, 172, 112, 167, 21631, 336, 385, 39, 4, 172, 4536, 1111, 17, 546, 38, 13, 447, 4, 192, 50, 16, 6, 147, 2025, 19, 14, 22, 4, 1920, 4613, 469, 4, 22, 71, 87, 12, 16, 43, 530, 38, 76, 15, 13, 1247, 4, 22, 17, 515, 17, 12, 16, 626, 18, 19193, 5, 62, 386, 12, 8, 316, 8, 106, 5, 4, 2223, 5244, 16, 480, 66, 3785, 33, 4, 130, 12, 16, 38, 619, 5, 25, 124, 51, 36, 135, 48, 25, 1415, 33, 6, 22, 12, 215, 28, 77, 52, 5, 14, 407, 16, 82, 10311, 8, 4, 107, 117, 5952, 15, 256, 4, 31050, 7, 3766, 5, 723, 36, 71, 43, 530, 476, 26, 400, 317, 46, 7, 4, 12118, 1029, 13, 104, 88, 4, 381, 15, 297, 98, 32, 2071, 56, 26, 141, 6, 194, 7486, 18, 4, 226, 22, 21, 134, 476, 26, 480, 5, 144, 30, 5535, 18, 51, 36, 28, 224, 92, 25, 104, 4, 226, 65, 16, 38, 1334, 88, 12, 16, 283, 5, 16, 4472, 113, 103, 32, 15, 16, 5345, 19, 178, 32]\n",
            "<START> this film was just brilliant casting location scenery story direction everyone's really suited the part they played and you could just imagine being there robert redford's is an amazing actor and now the same being director norman's father came from the same scottish island as myself so i loved the fact there was a real connection with this film the witty remarks throughout the film were great it was just brilliant so much that i bought the film as soon as it was released for retail and would recommend it to everyone to watch and the fly fishing was amazing really cried at the end it was so sad and you know what they say if you cry at a film it must have been good and this definitely was also congratulations to the two little boy's that played the part's of norman and paul they were just brilliant children are often left out of the praising list i think because the stars that play them all grown up are such a big profile for the whole film but these children are amazing and should be praised for what they have done don't you think the whole story was so lovely because it was true and was someone's life after all that was shared with us all\n"
          ]
        }
      ],
      "source": [
        "def decode(token_ids):\n",
        "  \"\"\"Return a string with the decoded text given a list of token ids.\"\"\"\n",
        "  # Try looking up each id in the index, but return '#' (for OOV) if not found.\n",
        "  tokens = [reverse_index.get(i, \"#\") for i in token_ids]\n",
        "\n",
        "  # Connect the string tokens with a space.\n",
        "  return ' '.join(tokens)\n",
        "\n",
        "# Show the ids corresponding tokens in the first example.\n",
        "print(X_train[0])\n",
        "print(decode(X_train[0]))"
      ]
    },
    {
      "cell_type": "markdown",
      "metadata": {
        "id": "g47w5CackGBA"
      },
      "source": [
        "### Text Lengths\n",
        "As usual, let's start with some data analysis. How long are the reviews? Is there a difference in length between positive and negative reviews? A histogram will help answer these questions."
      ]
    },
    {
      "cell_type": "code",
      "execution_count": 5,
      "metadata": {
        "colab": {
          "base_uri": "https://localhost:8080/",
          "height": 474
        },
        "id": "kEOgzo8Gk3r7",
        "outputId": "5ee7e12f-f02f-41c7-e03a-31057d6fa69a"
      },
      "outputs": [
        {
          "output_type": "display_data",
          "data": {
            "text/plain": [
              "<Figure size 640x480 with 1 Axes>"
            ],
            "image/png": "[encoded data removed]"
          },
          "metadata": {}
        },
        {
          "output_type": "stream",
          "name": "stdout",
          "text": [
            "Longest positive review: 2494\n",
            "Longest negative review: 1571\n"
          ]
        }
      ],
      "source": [
        "# Create a list of lengths for training examples with a positive label.\n",
        "text_lengths_pos = [len(x) for (i, x) in enumerate(X_train) if Y_train[i]]\n",
        "\n",
        "# And a list of lengths for training examples with a negative label.\n",
        "text_lengths_neg = [len(x) for (i, x) in enumerate(X_train) if not Y_train[i]]\n",
        "\n",
        "# The histogram function can take a list of inputs and corresponding labels.\n",
        "plt.hist([text_lengths_pos, text_lengths_neg], bins=20, range=(0, 1000),\n",
        "         label=['positive', 'negative'])\n",
        "plt.legend()\n",
        "plt.show()\n",
        "\n",
        "# Also check the longest reviews.\n",
        "print('Longest positive review:', max(text_lengths_pos))\n",
        "print('Longest negative review:', max(text_lengths_neg))"
      ]
    },
    {
      "cell_type": "markdown",
      "metadata": {
        "id": "c3ZE9gpkml3a"
      },
      "source": [
        "---\n",
        "### Exercise 1: Token Counts (20 points)\n",
        "For each of the given tokens, construct a table with the number of positive training examples that include that token and the number of negative training examples that include that token. For reference, here are the counts for the first two tokens:\n",
        "\n",
        "|Token|Pos Count|Neg Count|\n",
        "|-|-|-|\n",
        "|good|4767|4849|\n",
        "|bad|1491|4396|"
      ]
    },
    {
      "cell_type": "code",
      "execution_count": 6,
      "metadata": {
        "id": "8YOYo6d01aWI",
        "colab": {
          "base_uri": "https://localhost:8080/"
        },
        "outputId": "9adcab83-0fcc-4739-cfae-c68026cd238d"
      },
      "outputs": [
        {
          "output_type": "stream",
          "name": "stdout",
          "text": [
            "Token\tPositive Examples\tNegative Examples\n",
            "good\t4767\t\t\t\t4849\n",
            "bad\t1491\t\t\t\t4396\n",
            "amazing\t868\t\t\t\t240\n",
            "boring\t301\t\t\t\t1206\n",
            "laugh\t525\t\t\t\t685\n",
            "cry\t231\t\t\t\t114\n"
          ]
        }
      ],
      "source": [
        "tokens = ['good', 'bad', 'amazing', 'boring', 'laugh', 'cry']\n",
        "\n",
        "# Create dictionaries to store the counts for positive and negative examples\n",
        "token_counts_pos = {token: 0 for token in tokens}\n",
        "token_counts_neg = {token: 0 for token in tokens}\n",
        "\n",
        "# Iterate through the training examples and count the tokens\n",
        "for i, review in enumerate(X_train):\n",
        "    label = Y_train[i]\n",
        "    for token in tokens:\n",
        "        if token in decode(review).split():\n",
        "            if label == 1:\n",
        "                token_counts_pos[token] += 1\n",
        "            else:\n",
        "                token_counts_neg[token] += 1\n",
        "\n",
        "# Display the table\n",
        "print(\"Token\\tPositive Examples\\tNegative Examples\")\n",
        "for token in tokens:\n",
        "    print(f\"{token}\\t{token_counts_pos[token]}\\t\\t\\t\\t{token_counts_neg[token]}\")\n"
      ]
    },
    {
      "cell_type": "markdown",
      "metadata": {
        "id": "pc_pLDho-eCc"
      },
      "source": [
        "---"
      ]
    },
    {
      "cell_type": "markdown",
      "metadata": {
        "id": "hhzt-LnQ1m8w"
      },
      "source": [
        "## Feature Representation\n",
        "Consider the difference between the pixel features we used for image classification and the text features we are now dealing with.\n",
        "\n",
        "An image had 784 pixel positions. At each position, there is a single value in [0,1] (after normalization).\n",
        "\n",
        "In contrast, a review has a variable number of ordered tokens (up to 2494 in the training examples). Each token occurs in a particular position. We can think of the token positions much like the 784 pixel positions, except that some of the trailing positions are empty, since review lengths vary.  At each token position, there is a single token, one of the 88587 entries in the vocabulary. So we can think of a review as a (2500, 90000) matrix: At each of ~2500 token positions, we have 1 of ~90000 token ids.\n",
        "\n",
        "This representation would have 2500 * 90000 = 225 million features -- quite a lot more complexity than the images, though as you'll see below, we will make some simplifying assumptions, reducing both the number of token positions and the number of vocabulary items."
      ]
    },
    {
      "cell_type": "markdown",
      "metadata": {
        "id": "Jm_F5JmWyfko"
      },
      "source": [
        "### Padding and Reduced Length\n",
        "As is clear from the length histogram, the current representation of the review text is a variable-length array. Since fixed-length arrays are easier to work with in Tensorflow, let's add special padding tokens at the end of each review until they are all the same length.\n",
        "\n",
        "We'll also use this operation to limit the number of token positions by truncating all reviews to a specified length. In the code below, as an example, we pad all training inputs to length 300."
      ]
    },
    {
      "cell_type": "code",
      "execution_count": 7,
      "metadata": {
        "colab": {
          "base_uri": "https://localhost:8080/"
        },
        "id": "a4ou8bSUCWOx",
        "outputId": "86c220f9-70cc-4b09-ca15-02d97eb5c242"
      },
      "outputs": [
        {
          "output_type": "stream",
          "name": "stdout",
          "text": [
            "Length of X_train[0]: 218\n",
            "Length of X_train_padded[0]: 300\n",
            "[    1    14    22    16    43   530   973  1622  1385    65   458  4468\n",
            "    66  3941     4   173    36   256     5    25   100    43   838   112\n",
            "    50   670 22665     9    35   480   284     5   150     4   172   112\n",
            "   167 21631   336   385    39     4   172  4536  1111    17   546    38\n",
            "    13   447     4   192    50    16     6   147  2025    19    14    22\n",
            "     4  1920  4613   469     4    22    71    87    12    16    43   530\n",
            "    38    76    15    13  1247     4    22    17   515    17    12    16\n",
            "   626    18 19193     5    62   386    12     8   316     8   106     5\n",
            "     4  2223  5244    16   480    66  3785    33     4   130    12    16\n",
            "    38   619     5    25   124    51    36   135    48    25  1415    33\n",
            "     6    22    12   215    28    77    52     5    14   407    16    82\n",
            " 10311     8     4   107   117  5952    15   256     4 31050     7  3766\n",
            "     5   723    36    71    43   530   476    26   400   317    46     7\n",
            "     4 12118  1029    13   104    88     4   381    15   297    98    32\n",
            "  2071    56    26   141     6   194  7486    18     4   226    22    21\n",
            "   134   476    26   480     5   144    30  5535    18    51    36    28\n",
            "   224    92    25   104     4   226    65    16    38  1334    88    12\n",
            "    16   283     5    16  4472   113   103    32    15    16  5345    19\n",
            "   178    32     0     0     0     0     0     0     0     0     0     0\n",
            "     0     0     0     0     0     0     0     0     0     0     0     0\n",
            "     0     0     0     0     0     0     0     0     0     0     0     0\n",
            "     0     0     0     0     0     0     0     0     0     0     0     0\n",
            "     0     0     0     0     0     0     0     0     0     0     0     0\n",
            "     0     0     0     0     0     0     0     0     0     0     0     0\n",
            "     0     0     0     0     0     0     0     0     0     0     0     0]\n"
          ]
        }
      ],
      "source": [
        "def pad_data(sequences, max_length):\n",
        "  # Keras has a convenient utility for padding a sequence.\n",
        "  # Also make sure we get a numpy array rather than an array of lists.\n",
        "  return np.array(list(\n",
        "      tf.keras.preprocessing.sequence.pad_sequences(\n",
        "          sequences, maxlen=max_length, padding='post', value=0)))\n",
        "\n",
        "# Pad and truncate to 300 tokens.\n",
        "X_train_padded = pad_data(X_train, max_length=300)\n",
        "\n",
        "# Check the padded output.\n",
        "print('Length of X_train[0]:', len(X_train[0]))\n",
        "print('Length of X_train_padded[0]:', len(X_train_padded[0]))\n",
        "print(X_train_padded[0])"
      ]
    },
    {
      "cell_type": "markdown",
      "metadata": {
        "id": "lFEmcwBjL4e_"
      },
      "source": [
        "### Reduced Vocabulary\n",
        "We also want to be able to limit the vocabulary size. Since our padding function produces fixed-length sequences in a numpy matrix, we can use clever numpy indexing to efficiently replace all token ids larger than some value with the designated out-of-vocabulary (OOV) id.\n",
        "\n",
        "In the code below, as an example, we'll keep just token ids less than 1000, replacing all others with OOV."
      ]
    },
    {
      "cell_type": "code",
      "execution_count": 8,
      "metadata": {
        "colab": {
          "base_uri": "https://localhost:8080/"
        },
        "id": "21qpyEgGNQeB",
        "outputId": "085c80f6-7808-4734-a64e-d442c87400b4"
      },
      "outputs": [
        {
          "output_type": "stream",
          "name": "stdout",
          "text": [
            "[  1  14  22  16  43 530 973   2   2  65 458   2  66   2   4 173  36 256\n",
            "   5  25 100  43 838 112  50 670   2   9  35 480 284   5 150   4 172 112\n",
            " 167   2 336 385  39   4 172   2   2  17 546  38  13 447   4 192  50  16\n",
            "   6 147   2  19  14  22   4   2   2 469   4  22  71  87  12  16  43 530\n",
            "  38  76  15  13   2   4  22  17 515  17  12  16 626  18   2   5  62 386\n",
            "  12   8 316   8 106   5   4   2   2  16 480  66   2  33   4 130  12  16\n",
            "  38 619   5  25 124  51  36 135  48  25   2  33   6  22  12 215  28  77\n",
            "  52   5  14 407  16  82   2   8   4 107 117   2  15 256   4   2   7   2\n",
            "   5 723  36  71  43 530 476  26 400 317  46   7   4   2   2  13 104  88\n",
            "   4 381  15 297  98  32   2  56  26 141   6 194   2  18   4 226  22  21\n",
            " 134 476  26 480   5 144  30   2  18  51  36  28 224  92  25 104   4 226\n",
            "  65  16  38   2  88  12  16 283   5  16   2 113 103  32  15  16   2  19\n",
            " 178  32   0   0   0   0   0   0   0   0   0   0   0   0   0   0   0   0\n",
            "   0   0   0   0   0   0   0   0   0   0   0   0   0   0   0   0   0   0\n",
            "   0   0   0   0   0   0   0   0   0   0   0   0   0   0   0   0   0   0\n",
            "   0   0   0   0   0   0   0   0   0   0   0   0   0   0   0   0   0   0\n",
            "   0   0   0   0   0   0   0   0   0   0   0   0]\n",
            "<START> this film was just brilliant casting # # story direction # really # the part they played and you could just imagine being there robert # is an amazing actor and now the same being director # father came from the same # # as myself so i loved the fact there was a real # with this film the # # throughout the film were great it was just brilliant so much that i # the film as soon as it was released for # and would recommend it to everyone to watch and the # # was amazing really # at the end it was so sad and you know what they say if you # at a film it must have been good and this definitely was also # to the two little # that played the # of # and paul they were just brilliant children are often left out of the # # i think because the stars that play them all # up are such a big # for the whole film but these children are amazing and should be # for what they have done don't you think the whole story was so # because it was true and was # life after all that was # with us all # # # # # # # # # # # # # # # # # # # # # # # # # # # # # # # # # # # # # # # # # # # # # # # # # # # # # # # # # # # # # # # # # # # # # # # # # # # # # # # # # #\n"
          ]
        }
      ],
      "source": [
        "def limit_vocab(sequences, max_token_id, oov_id=2):\n",
        "  \"\"\"Replace token ids greater than or equal to max_token_id with the oov_id.\"\"\"\n",
        "  reduced_sequences = np.copy(sequences)\n",
        "  reduced_sequences[reduced_sequences >= max_token_id] = oov_id\n",
        "  return reduced_sequences\n",
        "\n",
        "# Reduce vocabulary to 1000 tokens.\n",
        "X_train_reduced = limit_vocab(X_train_padded, max_token_id=1000)\n",
        "print(X_train_reduced[0])\n",
        "\n",
        "# Decode to see what this looks like in tokens. Note the '#' for OOVs.\n",
        "print(decode(X_train_reduced[0]))"
      ]
    },
    {
      "cell_type": "markdown",
      "metadata": {
        "id": "d24mOPC6ybC4"
      },
      "source": [
        "### One-hot Encoding\n",
        "Our current feature representations are **sparse**. That is, we only keep track of the token ids that are present in the input. A **one-hot** encoding replaces a value like 22 (corresponding to 'film') with an array with a single 1 at position 22 and zeros everywhere else. This will be very memory-inefficient, but we'll do it anyway for clarity.\n",
        "\n",
        "As discussed above, let's dramatically reduce both the number of token positions (review length) and the number of token ids (vocabulary). We'll clip each review after 20 tokens (so 2500 -> 20) and keep only the most common 1000 tokens (so 90000 -> 1000)."
      ]
    },
    {
      "cell_type": "code",
      "execution_count": 9,
      "metadata": {
        "colab": {
          "base_uri": "https://localhost:8080/"
        },
        "id": "EXzkqVL3Jufj",
        "outputId": "c21a4207-a9f4-4493-d0d8-cc6178d95e82"
      },
      "outputs": [
        {
          "output_type": "stream",
          "name": "stdout",
          "text": [
            "X_train_one_hot shape: (25000, 20, 1000)\n"
          ]
        }
      ],
      "source": [
        "# Keras has a util to create one-hot encodings.\n",
        "X_train_padded = pad_data(X_train, max_length=20)\n",
        "X_train_reduced = limit_vocab(X_train_padded, max_token_id=1000)\n",
        "X_train_one_hot = tf.keras.utils.to_categorical(X_train_reduced)\n",
        "print('X_train_one_hot shape:', X_train_one_hot.shape)"
      ]
    },
    {
      "cell_type": "markdown",
      "metadata": {
        "id": "B5RvIN4w66Ej"
      },
      "source": [
        "Note the shape of the one-hot encoded features. For each of our 25000 training examples, we have a 20 x 1000 matrix. That is, for each of 20 token positions, we have a vector of 1000 elements containing a single 1 and 999 zeros.\n",
        "\n",
        "We can think of these 1000-dimensional one-hot arrays as **embeddings**. Each token in the input has a 1000-dimensional representation. But because of the one-hot setup, the distance between each pair of tokens is the same ([1,0,0,...], [0,1,0,...], etc.). By contrast, learned embeddings result in meaningful distances between pairs of tokens. We'll get to that soon."
      ]
    },
    {
      "cell_type": "markdown",
      "metadata": {
        "id": "296Cnt647b5c"
      },
      "source": [
        "## Logistic Regression with One-Hot Encodings\n",
        "Let's start with something familiar -- logistic regression. Since our feature representation is in 2 dimensions (20 x 1000), we need to flatten it to pass it to Keras (remember we did this with the pixel data too). Let's try two strategies for flattening.\n",
        "\n",
        "1. Flatten by *concatenating* (as we did with pixels), turning (20 x 1000) data into (20000,) data. The result is a separate feature for each token at each position.\n",
        "2. Flatten by *averaging* over token positions, turning (20 x 1000) data into (1000,) data. The result is an array with average token counts, ignoring position.\n",
        "\n",
        "NOTE: Our prior assignments have used the standard Stochastic Gradient Descent (SGD) optimizer to compute the gradient from an estimate of the loss (based on the current mini-batch). There are many alternative optimizers. Here we'll use the **Adam** optimizer, which sometimes gives better results. One key characteristic of Adam is that it effectively uses a different learning rate for each parameter rather than a fixed learning rate as in SGD."
      ]
    },
    {
      "cell_type": "code",
      "execution_count": 10,
      "metadata": {
        "id": "6m6eebM-0dUW"
      },
      "outputs": [],
      "source": [
        "def build_onehot_model(average_over_positions=False):\n",
        "  \"\"\"Build a tf.keras model for one-hot data.\"\"\"\n",
        "  # Clear session and remove randomness.\n",
        "  tf.keras.backend.clear_session()\n",
        "  tf.random.set_seed(0)\n",
        "\n",
        "  model = tf.keras.Sequential()\n",
        "  if average_over_positions:\n",
        "    # This layer averages over the first dimension of the input by default.\n",
        "    model.add(tf.keras.layers.GlobalAveragePooling1D())\n",
        "  else:\n",
        "    # Concatenate.\n",
        "    model.add(tf.keras.layers.Flatten())\n",
        "  model.add(tf.keras.layers.Dense(\n",
        "      units=1,                     # output dim (for binary classification)\n",
        "      activation=\"sigmoid\"         # sigmoid activation for classification\n",
        "  ))\n",
        "\n",
        "  model.compile(loss='binary_crossentropy',   # this is a classification task\n",
        "                optimizer='adam',             # fancy optimizer\n",
        "                metrics=['accuracy'])\n",
        "\n",
        "  return model"
      ]
    },
    {
      "cell_type": "markdown",
      "metadata": {
        "id": "NY3W_1-OSZ2X"
      },
      "source": [
        "Now let's try fitting the model to our training data and check performance metrics on the validation (held-out) data. But first, here's a function for plotting the learning curves given the training history object we get from Keras."
      ]
    },
    {
      "cell_type": "code",
      "execution_count": 11,
      "metadata": {
        "id": "cOVmajSuMjN6"
      },
      "outputs": [],
      "source": [
        "def plot_history(history):\n",
        "  plt.ylabel('Loss')\n",
        "  plt.xlabel('Epoch')\n",
        "  plt.xticks(range(0, len(history['loss'] + 1)))\n",
        "  plt.plot(history['loss'], label=\"training\", marker='o')\n",
        "  plt.plot(history['val_loss'], label=\"validation\", marker='o')\n",
        "  plt.legend()\n",
        "  plt.show()"
      ]
    },
    {
      "cell_type": "code",
      "execution_count": 12,
      "metadata": {
        "colab": {
          "base_uri": "https://localhost:8080/",
          "height": 632
        },
        "id": "MyE4PgX70_op",
        "outputId": "99f736f4-fbc8-456f-c802-0aba0e924edc"
      },
      "outputs": [
        {
          "output_type": "stream",
          "name": "stdout",
          "text": [
            "Epoch 1/5\n",
            "352/352 [==============================] - 3s 8ms/step - loss: 0.6785 - accuracy: 0.6134 - val_loss: 0.6663 - val_accuracy: 0.6384\n",
            "Epoch 2/5\n",
            "352/352 [==============================] - 3s 8ms/step - loss: 0.6334 - accuracy: 0.7433 - val_loss: 0.6457 - val_accuracy: 0.6696\n",
            "Epoch 3/5\n",
            "352/352 [==============================] - 2s 6ms/step - loss: 0.5968 - accuracy: 0.7744 - val_loss: 0.6296 - val_accuracy: 0.6716\n",
            "Epoch 4/5\n",
            "352/352 [==============================] - 2s 6ms/step - loss: 0.5667 - accuracy: 0.7966 - val_loss: 0.6184 - val_accuracy: 0.6752\n",
            "Epoch 5/5\n",
            "352/352 [==============================] - 2s 6ms/step - loss: 0.5410 - accuracy: 0.8096 - val_loss: 0.6092 - val_accuracy: 0.6784\n"
          ]
        },
        {
          "output_type": "display_data",
          "data": {
            "text/plain": [
              "<Figure size 640x480 with 1 Axes>"
            ],
            "image/png": "[encoded data removed]"
          },
          "metadata": {}
        }
      ],
      "source": [
        "model = build_onehot_model()\n",
        "\n",
        "# Fit the model.\n",
        "history = model.fit(\n",
        "  x = X_train_one_hot,  # one-hot training data\n",
        "  y = Y_train,          # corresponding binary labels\n",
        "  epochs=5,             # number of passes through the training data\n",
        "  batch_size=64,        # mini-batch size\n",
        "  validation_split=0.1, # use a fraction of the examples for validation\n",
        "  verbose=1             # display some progress output during training\n",
        "  )\n",
        "\n",
        "# Convert the return value into a DataFrame so we can see the train loss\n",
        "# and binary accuracy after every epoch.\n",
        "history = pd.DataFrame(history.history)\n",
        "plot_history(history)"
      ]
    },
    {
      "cell_type": "code",
      "source": [
        "# Build and train the LR-C model (Logistic Regression Concatenating)\n",
        "model_LR_C = build_onehot_model(average_over_positions=False)\n",
        "\n",
        "history_LR_C = model_LR_C.fit(\n",
        "  x = X_train_one_hot,  # one-hot training data\n",
        "  y = Y_train,          # corresponding binary labels\n",
        "  epochs=5,             # number of passes through the training data\n",
        "  batch_size=64,        # mini-batch size\n",
        "  validation_split=0.1, # use a fraction of the examples for validation\n",
        "  verbose=1             # display some progress output during training\n",
        "  )\n",
        "\n",
        "# Build and train the LR-A model (Logistic Regression Averaging)\n",
        "model_LR_A = build_onehot_model(average_over_positions=True)\n",
        "\n",
        "history_LR_A = model_LR_A.fit(\n",
        "  x = X_train_one_hot,  # one-hot training data\n",
        "  y = Y_train,          # corresponding binary labels\n",
        "  epochs=5,             # number of passes through the training data\n",
        "  batch_size=64,        # mini-batch size\n",
        "  validation_split=0.1, # use a fraction of the examples for validation\n",
        "  verbose=1             # display some progress output during training\n",
        "  )\n",
        "\n",
        "# Convert the return values into DataFrames to examine the results\n",
        "history_LR_C = pd.DataFrame(history_LR_C.history)\n",
        "history_LR_A = pd.DataFrame(history_LR_A.history)\n",
        "\n",
        "\n",
        "# Get the final training and validation accuracies for LR-C and LR-A\n",
        "final_train_accuracy_LR_C = history_LR_C['accuracy'].iloc[-1]\n",
        "final_val_accuracy_LR_C = history_LR_C['val_accuracy'].iloc[-1]\n",
        "final_train_accuracy_LR_A = history_LR_A['accuracy'].iloc[-1]\n",
        "final_val_accuracy_LR_A = history_LR_A['val_accuracy'].iloc[-1]\n",
        "\n",
        "print(\"Final training accuracy for LR-C:\", final_train_accuracy_LR_C)\n",
        "print(\"Final validation accuracy for LR-C:\", final_val_accuracy_LR_C)\n",
        "print(\"Final training accuracy for LR-A:\", final_train_accuracy_LR_A)\n",
        "print(\"Final validation accuracy for LR-A:\", final_val_accuracy_LR_A)\n"
      ],
      "metadata": {
        "colab": {
          "base_uri": "https://localhost:8080/"
        },
        "id": "ZQrFq4p_Cynz",
        "outputId": "d9934419-274e-49bb-e554-964eb50a2753"
      },
      "execution_count": 13,
      "outputs": [
        {
          "output_type": "stream",
          "name": "stdout",
          "text": [
            "Epoch 1/5\n",
            "352/352 [==============================] - 4s 9ms/step - loss: 0.6787 - accuracy: 0.6123 - val_loss: 0.6660 - val_accuracy: 0.6544\n",
            "Epoch 2/5\n",
            "352/352 [==============================] - 2s 7ms/step - loss: 0.6335 - accuracy: 0.7437 - val_loss: 0.6455 - val_accuracy: 0.6740\n",
            "Epoch 3/5\n",
            "352/352 [==============================] - 2s 6ms/step - loss: 0.5969 - accuracy: 0.7749 - val_loss: 0.6294 - val_accuracy: 0.6780\n",
            "Epoch 4/5\n",
            "352/352 [==============================] - 2s 6ms/step - loss: 0.5668 - accuracy: 0.7965 - val_loss: 0.6182 - val_accuracy: 0.6796\n",
            "Epoch 5/5\n",
            "352/352 [==============================] - 2s 6ms/step - loss: 0.5412 - accuracy: 0.8096 - val_loss: 0.6091 - val_accuracy: 0.6808\n",
            "Epoch 1/5\n",
            "352/352 [==============================] - 3s 6ms/step - loss: 0.6907 - accuracy: 0.6143 - val_loss: 0.6886 - val_accuracy: 0.6372\n",
            "Epoch 2/5\n",
            "352/352 [==============================] - 2s 5ms/step - loss: 0.6856 - accuracy: 0.6786 - val_loss: 0.6840 - val_accuracy: 0.6676\n",
            "Epoch 3/5\n",
            "352/352 [==============================] - 2s 5ms/step - loss: 0.6807 - accuracy: 0.6781 - val_loss: 0.6793 - val_accuracy: 0.6860\n",
            "Epoch 4/5\n",
            "352/352 [==============================] - 2s 5ms/step - loss: 0.6760 - accuracy: 0.7011 - val_loss: 0.6751 - val_accuracy: 0.6900\n",
            "Epoch 5/5\n",
            "352/352 [==============================] - 2s 5ms/step - loss: 0.6714 - accuracy: 0.7001 - val_loss: 0.6710 - val_accuracy: 0.6908\n",
            "Final training accuracy for LR-C: 0.8095999956130981\n",
            "Final validation accuracy for LR-C: 0.6808000206947327\n",
            "Final training accuracy for LR-A: 0.7001333236694336\n",
            "Final validation accuracy for LR-A: 0.6908000111579895\n"
          ]
        }
      ]
    },
    {
      "cell_type": "code",
      "source": [
        "# Get the number of parameters for LR-C model and print with title\n",
        "print(\"LR-C Model Summary:\")\n",
        "model_LR_C.summary()\n",
        "\n",
        "# Get the number of parameters for LR-A model and print with title\n",
        "print(\"\\nLR-A Model Summary:\")\n",
        "model_LR_A.summary()\n"
      ],
      "metadata": {
        "colab": {
          "base_uri": "https://localhost:8080/"
        },
        "id": "YG0isT1PFR83",
        "outputId": "6c120058-e685-469d-bc2b-221e7974defe"
      },
      "execution_count": 14,
      "outputs": [
        {
          "output_type": "stream",
          "name": "stdout",
          "text": [
            "LR-C Model Summary:\n",
            "Model: \"sequential\"\n",
            "_________________________________________________________________\n",
            " Layer (type)                Output Shape              Param #   \n",
            "=================================================================\n",
            " flatten (Flatten)           (None, 20000)             0         \n",
            "                                                                 \n",
            " dense (Dense)               (None, 1)                 20001     \n",
            "                                                                 \n",
            "=================================================================\n",
            "Total params: 20001 (78.13 KB)\n",
            "Trainable params: 20001 (78.13 KB)\n",
            "Non-trainable params: 0 (0.00 Byte)\n",
            "_________________________________________________________________\n",
            "\n",
            "LR-A Model Summary:\n",
            "Model: \"sequential\"\n",
            "_________________________________________________________________\n",
            " Layer (type)                Output Shape              Param #   \n",
            "=================================================================\n",
            " global_average_pooling1d (  (None, 1000)              0         \n",
            " GlobalAveragePooling1D)                                         \n",
            "                                                                 \n",
            " dense (Dense)               (None, 1)                 1001      \n",
            "                                                                 \n",
            "=================================================================\n",
            "Total params: 1001 (3.91 KB)\n",
            "Trainable params: 1001 (3.91 KB)\n",
            "Non-trainable params: 0 (0.00 Byte)\n",
            "_________________________________________________________________\n"
          ]
        }
      ]
    },
    {
      "cell_type": "markdown",
      "metadata": {
        "id": "QuCh9aQPv7F_"
      },
      "source": [
        "---\n",
        "### Exercise 2: Comparing logistic regrerssion models (20 points)\n",
        "Train the one-hot model using both the concatenating and the averaging strategies and compare the results. Let's call these *LR-C* (Logistic Regression Concatenating) and *LR-A* (Logistic Regression Averaging). Then answer the following questions:\n",
        "\n",
        "1. What are the final training and validation accuracies for LR-C and LR-A?\n",
        "2. How many parameters are there in each model?\n",
        "3. Would you say that either model is overfitting? Why or why not?\n",
        "4. Briefly describe how LR-C differs from LR-A. How do you explain the relationship between their respective validation accuracy results?"
      ]
    },
    {
      "cell_type": "markdown",
      "metadata": {
        "id": "CEAN5BejHc__"
      },
      "source": [
        "*Written answers:*\n",
        "\n",
        "1.  Final training accuracy for LR-C: 0.8095999956130981\n",
        "Final validation accuracy for LR-C: 0.6808000206947327\n",
        "Final training accuracy for LR-A: 0.7001333236694336\n",
        "Final validation accuracy for LR-A: 0.6908000111579895\n",
        "\n",
        "\n",
        "2.  LR-C Model Summary 20001  || LR-A Model Summary: 1001   \n",
        "3.  it appears that both LR-C and LR-A are not overfitting. These models are simple and well-suited for this binary classification task\n",
        "4. LR-C (Logistic Regression Concatenating):\n",
        "\n",
        "In LR-C, the one-hot encoded vectors representing each word in the input sequence are concatenated into a single long vector.\n",
        "The model treats the concatenated vector as a feature vector, and the logistic regression layer makes predictions based on this concatenated representation.\n",
        "LR-A (Logistic Regression Averaging):\n",
        "\n",
        "In LR-A, the one-hot encoded vectors are averaged across the positions in the input sequence.\n",
        "The averaging operation reduces the dimensionality and combines information from different positions.\n",
        "The logistic regression layer then makes predictions based on this averaged representation.\n",
        "\n",
        " the relationship between the validation accuracy results of LR-C and LR-A is influenced by how they handle positional information and the characteristics of the dataset. LR-C may perform better when specific positional information is essential, while LR-A may excel when the sentiment is less position-dependent and benefits from capturing an overall sentiment picture.\n"
      ]
    },
    {
      "cell_type": "markdown",
      "metadata": {
        "id": "1UuR6XPO-eCe"
      },
      "source": [
        "---"
      ]
    },
    {
      "cell_type": "markdown",
      "metadata": {
        "id": "sJIBRqK7lsjG"
      },
      "source": [
        "## Logistic Regression with Embeddings\n",
        "Next, let's train model that replaces one-hot representations of each token with learned embeddings.\n",
        "\n",
        "The code below uses a Keras Embedding layer, which expects to receive a sparse (rather than one-hot) representation. That is, it expects a (padded) sequence of token ids; for each id, it looks up the corresponding embedding vector."
      ]
    },
    {
      "cell_type": "code",
      "execution_count": 15,
      "metadata": {
        "id": "ho6uOeCaBs2e"
      },
      "outputs": [],
      "source": [
        "def build_embeddings_model(average_over_positions=False,\n",
        "                           vocab_size=1000,\n",
        "                           sequence_length=20,\n",
        "                           embedding_dim=2):\n",
        "  \"\"\"Build a tf.keras model using embeddings.\"\"\"\n",
        "  # Clear session and remove randomness.\n",
        "  tf.keras.backend.clear_session()\n",
        "  tf.random.set_seed(0)\n",
        "\n",
        "  model = tf.keras.Sequential()\n",
        "  model.add(tf.keras.layers.Embedding(\n",
        "      input_dim=vocab_size,\n",
        "      output_dim=embedding_dim,\n",
        "      input_length=sequence_length)\n",
        "  )\n",
        "\n",
        "  if average_over_positions:\n",
        "    # This layer averages over the first dimension of the input by default.\n",
        "    model.add(tf.keras.layers.GlobalAveragePooling1D())\n",
        "  else:\n",
        "    # Concatenate.\n",
        "    model.add(tf.keras.layers.Flatten())\n",
        "  model.add(tf.keras.layers.Dense(\n",
        "      units=1,                     # output dim (for binary classification)\n",
        "      activation='sigmoid'         # apply the sigmoid function!\n",
        "  ))\n",
        "\n",
        "  model.compile(loss='binary_crossentropy',\n",
        "                optimizer='adam',\n",
        "                metrics=['accuracy'])\n",
        "\n",
        "  return model"
      ]
    },
    {
      "cell_type": "markdown",
      "metadata": {
        "id": "eyhoEjAiFSNB"
      },
      "source": [
        "Try training the model as before. We'll use the averaging strategy rather than the concatenating strategy for dealing with the token sequence. That is, we'll look up embedding vectors for each token. Then we'll average them to produce a single vector. Then we'll traing a logistic regression with that vector as input to predict the binary label."
      ]
    },
    {
      "cell_type": "code",
      "execution_count": 16,
      "metadata": {
        "colab": {
          "base_uri": "https://localhost:8080/",
          "height": 632
        },
        "id": "uYUE5UwkxoU8",
        "outputId": "ce47a394-c738-4366-f86c-7c3837bfdf78"
      },
      "outputs": [
        {
          "output_type": "stream",
          "name": "stdout",
          "text": [
            "Epoch 1/5\n",
            "352/352 [==============================] - 2s 4ms/step - loss: 0.6866 - accuracy: 0.6431 - val_loss: 0.6785 - val_accuracy: 0.6708\n",
            "Epoch 2/5\n",
            "352/352 [==============================] - 1s 4ms/step - loss: 0.6654 - accuracy: 0.6952 - val_loss: 0.6550 - val_accuracy: 0.6960\n",
            "Epoch 3/5\n",
            "352/352 [==============================] - 1s 2ms/step - loss: 0.6381 - accuracy: 0.7048 - val_loss: 0.6291 - val_accuracy: 0.7032\n",
            "Epoch 4/5\n",
            "352/352 [==============================] - 1s 2ms/step - loss: 0.6112 - accuracy: 0.7159 - val_loss: 0.6069 - val_accuracy: 0.7044\n",
            "Epoch 5/5\n",
            "352/352 [==============================] - 1s 2ms/step - loss: 0.5879 - accuracy: 0.7220 - val_loss: 0.5890 - val_accuracy: 0.7132\n"
          ]
        },
        {
          "output_type": "display_data",
          "data": {
            "text/plain": [
              "<Figure size 640x480 with 1 Axes>"
            ],
            "image/png": "[encoded data removed]"
          },
          "metadata": {}
        }
      ],
      "source": [
        "model = build_embeddings_model(average_over_positions=True,\n",
        "                               vocab_size=1000,\n",
        "                               sequence_length=20,\n",
        "                               embedding_dim=2)\n",
        "history = model.fit(\n",
        "  x = X_train_reduced,  # our sparse padded training data\n",
        "  y = Y_train,          # corresponding binary labels\n",
        "  epochs=5,             # number of passes through the training data\n",
        "  batch_size=64,        # mini-batch size\n",
        "  validation_split=0.1, # use a fraction of the examples for validation\n",
        "  verbose=1             # display some progress output during training\n",
        "  )\n",
        "\n",
        "history = pd.DataFrame(history.history)\n",
        "plot_history(history)"
      ]
    },
    {
      "cell_type": "code",
      "source": [
        "# Define the list of embedding sizes\n",
        "embedding_sizes = [2, 4, 8, 16, 32, 64]\n",
        "\n",
        "# Initialize lists to store results\n",
        "train_accuracies = []\n",
        "val_accuracies = []\n",
        "num_parameters = []\n",
        "\n",
        "# Loop through different embedding sizes\n",
        "for embedding_size in embedding_sizes:\n",
        "    print(f\"Training model with embedding size {embedding_size}...\")\n",
        "\n",
        "    # Build the model with the specified embedding size\n",
        "    model = build_embeddings_model(average_over_positions=True,\n",
        "                                   vocab_size=1000,\n",
        "                                   sequence_length=20,\n",
        "                                   embedding_dim=embedding_size)\n",
        "\n",
        "    # Train the model\n",
        "    history = model.fit(\n",
        "        x=X_train_reduced,  # our sparse padded training data\n",
        "        y=Y_train,          # corresponding binary labels\n",
        "        epochs=5,           # number of passes through the training data\n",
        "        batch_size=64,      # mini-batch size\n",
        "        validation_split=0.1,  # use a fraction of the examples for validation\n",
        "        verbose=0  # suppress progress output during training\n",
        "    )\n",
        "\n",
        "    # Get final training and validation accuracies\n",
        "    final_train_accuracy = history.history['accuracy'][-1]\n",
        "    final_val_accuracy = history.history['val_accuracy'][-1]\n",
        "\n",
        "    # Calculate the number of parameters\n",
        "    num_params = model.count_params()\n",
        "\n",
        "    # Append results to the lists\n",
        "    train_accuracies.append(final_train_accuracy)\n",
        "    val_accuracies.append(final_val_accuracy)\n",
        "    num_parameters.append(num_params)\n",
        "\n",
        "# Create a DataFrame to display the results\n",
        "results = pd.DataFrame({'Embedding Size': embedding_sizes,\n",
        "                        'Training Accuracy': train_accuracies,\n",
        "                        'Validation Accuracy': val_accuracies,\n",
        "                        'Number of Parameters': num_parameters})\n",
        "\n",
        "# Display the table of results\n",
        "print(results)\n"
      ],
      "metadata": {
        "colab": {
          "base_uri": "https://localhost:8080/"
        },
        "id": "cE6YJkDfHNAx",
        "outputId": "780b5e3f-535f-49c3-a548-3179133c67ad"
      },
      "execution_count": 20,
      "outputs": [
        {
          "output_type": "stream",
          "name": "stdout",
          "text": [
            "Training model with embedding size 2...\n",
            "Training model with embedding size 4...\n",
            "Training model with embedding size 8...\n",
            "Training model with embedding size 16...\n",
            "Training model with embedding size 32...\n",
            "Training model with embedding size 64...\n",
            "   Embedding Size  Training Accuracy  Validation Accuracy  \\\n",
            "0               2           0.719511               0.7084   \n",
            "1               4           0.730578               0.7168   \n",
            "2               8           0.740711               0.7224   \n",
            "3              16           0.748444               0.7276   \n",
            "4              32           0.751511               0.7300   \n",
            "5              64           0.754711               0.7280   \n",
            "\n",
            "   Number of Parameters  \n",
            "0                  2003  \n",
            "1                  4005  \n",
            "2                  8009  \n",
            "3                 16017  \n",
            "4                 32033  \n",
            "5                 64065  \n"
          ]
        }
      ]
    },
    {
      "cell_type": "markdown",
      "metadata": {
        "id": "V3k__61hFnag"
      },
      "source": [
        "---\n",
        "### Exercise 3: Experiments with embeddings (20 points)\n",
        "Train 6 models with embedding sizes in [2,4,8,16,32,64], keeping other settings fixed. Use the averaging strategy rather than the concatenating strategy.\n",
        "\n",
        "1. Construct a table with the training and validation accuracies of each model (after 5 training epochs).\n",
        "2. Compute the number of parameters in each model.\n",
        "3. Do learned embeddings appear to provide improved performance over the one-hot encoding? Why?"
      ]
    },
    {
      "cell_type": "markdown",
      "metadata": {
        "id": "O7t46ZdX2ofd"
      },
      "source": [
        "*Written answers:*\n",
        "\n",
        "1.    Embedding Size  Training Accuracy  Validation Accuracy  \\\n",
        "0               2           0.719511               0.7084   \n",
        "1               4           0.730578               0.7168   \n",
        "2               8           0.740711               0.7224   \n",
        "3              16           0.748444               0.7276   \n",
        "4              32           0.751511               0.7300   \n",
        "5              64           0.754711               0.7280   \n",
        "\n",
        "\n",
        "2.    Number of Parameters  \n",
        "0                  2003  \n",
        "1                  4005  \n",
        "2                  8009  \n",
        "3                 16017  \n",
        "4                 32033  \n",
        "5                 64065  \n",
        "\n",
        "\n",
        "3. the results demonstrate that learned embeddings, with larger embedding sizes, improve the model's ability to capture semantic information and relationships between words. This leads to higher validation accuracy, indicating that the model's predictions are more accurate. This improvement is consistent with the general advantage of learned embeddings over one-hot encoding in natural language processing tasks, where learned embeddings can capture the nuances and meanings of words, making them more effective\n"
      ]
    },
    {
      "cell_type": "markdown",
      "metadata": {
        "id": "X3iYVCzY-eCe"
      },
      "source": [
        "---"
      ]
    },
    {
      "cell_type": "markdown",
      "metadata": {
        "id": "i2dWOuxqKHA6"
      },
      "source": [
        "## Inspecting Learned Embeddings\n",
        "Let's retrieve the learned embedding parameters from the trained model and plot the token embeddings.\n",
        "\n",
        "The model layers in a Keras Sequential model are stored as a list and the embeddings are the first layer. We can use the get_weights() function to get a numpy array with the parameters."
      ]
    },
    {
      "cell_type": "code",
      "execution_count": 17,
      "metadata": {
        "colab": {
          "base_uri": "https://localhost:8080/",
          "height": 86
        },
        "id": "bfsbGSwkaFjo",
        "outputId": "a01ae2db-49be-482d-b104-571f017f5457"
      },
      "outputs": [
        {
          "output_type": "display_data",
          "data": {
            "text/plain": [
              "[<keras.src.layers.core.embedding.Embedding at 0x7bb83cb8e980>,\n",
              " <keras.src.layers.pooling.global_average_pooling1d.GlobalAveragePooling1D at 0x7bb83cc52320>,\n",
              " <keras.src.layers.core.dense.Dense at 0x7bb83c3a1b10>]"
            ]
          },
          "metadata": {}
        },
        {
          "output_type": "display_data",
          "data": {
            "text/plain": [
              "(1000, 2)"
            ]
          },
          "metadata": {}
        }
      ],
      "source": [
        "# Display the model layers.\n",
        "display(model.layers)\n",
        "\n",
        "# Retrieve the embeddings layer, which itself is wrapped in a list.\n",
        "embeddings = model.layers[0].get_weights()[0]\n",
        "display(embeddings.shape)"
      ]
    },
    {
      "cell_type": "markdown",
      "metadata": {
        "id": "apPWscNwcXTE"
      },
      "source": [
        "Now we'll use a fancy plotting tool called *plotly* to show the embeddings with hovertext so you can move your mouse over the points to see the corresponding tokens."
      ]
    },
    {
      "cell_type": "code",
      "execution_count": 18,
      "metadata": {
        "colab": {
          "base_uri": "https://localhost:8080/",
          "height": 542
        },
        "id": "5RZMTrA0KttL",
        "outputId": "8bd27c0c-1c73-40ce-fa0e-bd6737579725"
      },
      "outputs": [
        {
          "output_type": "display_data",
          "data": {
            "text/html": [
              "<html>\n",
              "<head><meta charset=\"utf-8\" /></head>\n",
              "<body>\n",
              "    <div>            <script src=\"https://cdnjs.cloudflare.com/ajax/libs/mathjax/2.7.5/MathJax.js?config=TeX-AMS-MML_SVG\"></script><script type=\"text/javascript\">if (window.MathJax && window.MathJax.Hub && window.MathJax.Hub.Config) {window.MathJax.Hub.Config({SVG: {font: \"STIX-Web\"}});}</script>                <script type=\"text/javascript\">window.PlotlyConfig = {MathJaxConfig: 'local'};</script>\n",
              "        <script charset=\"utf-8\" src=\"https://cdn.plot.ly/plotly-2.24.1.min.js\"></script>                <div id=\"8a1e1337-15dc-44ba-a517-2d6975502231\" class=\"plotly-graph-div\" style=\"height:525px; width:100%;\"></div>            <script type=\"text/javascript\">                                    window.PLOTLYENV=window.PLOTLYENV || {};                                    if (document.getElementById(\"8a1e1337-15dc-44ba-a517-2d6975502231\")) {                    Plotly.newPlot(                        \"8a1e1337-15dc-44ba-a517-2d6975502231\",                        [{\"hoverinfo\":\"text\",\"mode\":\"markers\",\"text\":[\"game\",\"past\",\"able\",\"b\",\"days\",\"turns\",\"child\",\"they're\",\"hand\",\"flick\",\"enjoyed\",\"act\",\"genre\",\"town\",\"favorite\",\"soon\",\"kill\",\"starts\",\"sometimes\",\"car\",\"gave\",\"run\",\"late\",\"eyes\",\"actress\",\"etc\",\"directed\",\"horrible\",\"won't\",\"viewer\",\"brilliant\",\"parts\",\"self\",\"themselves\",\"hour\",\"expect\",\"thinking\",\"stories\",\"stuff\",\"girls\",\"obviously\",\"blood\",\"decent\",\"city\",\"voice\",\"highly\",\"myself\",\"feeling\",\"fight\",\"except\",\"slow\",\"matter\",\"type\",\"anyway\",\"kid\",\"roles\",\"killed\",\"heard\",\"god\",\"age\",\"says\",\"moment\",\"took\",\"leave\",\"writer\",\"strong\",\"cannot\",\"violence\",\"police\",\"hit\",\"stop\",\"happens\",\"particularly\",\"known\",\"involved\",\"happened\",\"extremely\",\"daughter\",\"obvious\",\"told\",\"chance\",\"living\",\"coming\",\"lack\",\"alone\",\"experience\",\"wouldn't\",\"including\",\"murder\",\"attempt\",\"s\",\"please\",\"james\",\"happen\",\"wonder\",\"crap\",\"ago\",\"brother\",\"film's\",\"gore\",\"none\",\"complete\",\"interest\",\"score\",\"group\",\"cut\",\"simple\",\"save\",\"ok\",\"hell\",\"looked\",\"career\",\"number\",\"song\",\"possible\",\"seriously\",\"annoying\",\"shown\",\"exactly\",\"sad\",\"running\",\"musical\",\"serious\",\"taken\",\"yourself\",\"whose\",\"released\",\"cinematography\",\"david\",\"scary\",\"ends\",\"english\",\"hero\",\"usually\",\"hours\",\"reality\",\"opening\",\"i'll\",\"across\",\"today\",\"jokes\",\"light\",\"hilarious\",\"somewhat\",\"usual\",\"started\",\"cool\",\"ridiculous\",\"body\",\"relationship\",\"view\",\"level\",\"opinion\",\"change\",\"happy\",\"middle\",\"taking\",\"wish\",\"husband\",\"finds\",\"saying\",\"order\",\"talking\",\"ones\",\"documentary\",\"shots\",\"huge\",\"novel\",\"female\",\"mostly\",\"robert\",\"power\",\"episodes\",\"room\",\"important\",\"rating\",\"talent\",\"five\",\"major\",\"turned\",\"strange\",\"word\",\"modern\",\"call\",\"apparently\",\"disappointed\",\"single\",\"events\",\"due\",\"four\",\"songs\",\"basically\",\"attention\",\"7\",\"knows\",\"clearly\",\"supporting\",\"knew\",\"british\",\"television\",\"comic\",\"non\",\"fast\",\"earth\",\"country\",\"future\",\"cheap\",\"class\",\"thriller\",\"8\",\"silly\",\"king\",\"problems\",\"aren't\",\"easily\",\"words\",\"tells\",\"miss\",\"jack\",\"local\",\"sequence\",\"bring\",\"entertainment\",\"paul\",\"beyond\",\"upon\",\"whether\",\"predictable\",\"moving\",\"similar\",\"straight\",\"romantic\",\"sets\",\"review\",\"falls\",\"oscar\",\"mystery\",\"enjoyable\",\"needs\",\"appears\",\"talk\",\"rock\",\"george\",\"giving\",\"eye\",\"richard\",\"within\",\"ten\",\"animation\",\"message\",\"theater\",\"near\",\"above\",\"dull\",\"nearly\",\"sequel\",\"theme\",\"points\",\"'\",\"stand\",\"mention\",\"lady\",\"bunch\",\"add\",\"feels\",\"herself\",\"release\",\"red\",\"team\",\"storyline\",\"surprised\",\"ways\",\"using\",\"named\",\"haven't\",\"lots\",\"easy\",\"fantastic\",\"begins\",\"actual\",\"working\",\"effort\",\"york\",\"die\",\"hate\",\"french\",\"minute\",\"tale\",\"clear\",\"stay\",\"9\",\"elements\",\"feature\",\"among\",\"follow\",\"comments\",\"re\",\"viewers\",\"avoid\",\"sister\",\"showing\",\"typical\",\"editing\",\"what's\",\"famous\",\"tried\",\"sorry\",\"dialog\",\"check\",\"fall\",\"period\",\"season\",\"form\",\"certain\",\"filmed\",\"weak\",\"soundtrack\",\"means\",\"buy\",\"material\",\"somehow\",\"realistic\",\"figure\",\"crime\",\"doubt\",\"gone\",\"peter\",\"tom\",\"kept\",\"viewing\",\"t\",\"general\",\"leads\",\"greatest\",\"space\",\"lame\",\"suspense\",\"dance\",\"imagine\",\"brought\",\"third\",\"atmosphere\",\"hear\",\"particular\",\"sequences\",\"whatever\",\"parents\",\"move\",\"lee\",\"indeed\",\"learn\",\"rent\",\"de\",\"eventually\",\"note\",\"deal\",\"average\",\"reviews\",\"wait\",\"forget\",\"japanese\",\"sexual\",\"poorly\",\"premise\",\"okay\",\"zombie\",\"surprise\",\"believable\",\"stage\",\"possibly\",\"sit\",\"who's\",\"decided\",\"expected\",\"you've\",\"subject\",\"nature\",\"became\",\"difficult\",\"free\",\"killing\",\"screenplay\",\"truth\",\"romance\",\"dr\",\"nor\",\"reading\",\"needed\",\"question\",\"leaves\",\"street\",\"20\",\"meets\",\"hot\",\"unless\",\"begin\",\"baby\",\"superb\",\"credits\",\"imdb\",\"otherwise\",\"write\",\"shame\",\"let's\",\"situation\",\"dramatic\",\"memorable\",\"directors\",\"earlier\",\"meet\",\"disney\",\"open\",\"dog\",\"badly\",\"joe\",\"male\",\"weird\",\"acted\",\"forced\",\"laughs\",\"sci\",\"emotional\",\"older\",\"realize\",\"fi\",\"dream\",\"society\",\"writers\",\"interested\",\"footage\",\"forward\",\"comment\",\"crazy\",\"deep\",\"sounds\",\"plus\",\"beauty\",\"whom\",\"america\",\"fantasy\",\"directing\",\"keeps\",\"ask\",\"development\",\"features\",\"air\",\"quickly\",\"mess\",\"creepy\",\"towards\",\"perfectly\",\"mark\",\"worked\",\"box\",\"cheesy\",\"unique\",\"setting\",\"hands\",\"plenty\",\"result\",\"previous\",\"brings\",\"effect\",\"e\",\"total\",\"personal\",\"incredibly\",\"rate\",\"fire\",\"monster\",\"business\",\"leading\",\"apart\",\"casting\",\"admit\",\"joke\",\"powerful\",\"appear\",\"background\",\"telling\",\"girlfriend\",\"meant\",\"christmas\",\"hardly\",\"present\",\"battle\",\"potential\",\"create\",\"bill\",\"break\",\"pay\",\"masterpiece\",\"gay\",\"political\",\"return\",\"dumb\",\"fails\",\"fighting\",\"various\",\"era\"],\"textposition\":\"bottom left\",\"x\":[0.24020126461982727,0.16825337707996368,-0.012941321358084679,0.006520500872284174,0.24739493429660797,-0.02125640958547592,0.1225009560585022,-0.09975386410951614,-0.2840387523174286,-0.1808502972126007,0.5034828782081604,-0.13633570075035095,0.3547932505607605,-0.016156574711203575,0.7198365330696106,0.25145578384399414,-0.2506921589374542,-0.06833654642105103,0.24987448751926422,-0.2725133001804352,0.03079814277589321,-0.2833894193172455,0.058878038078546524,0.06239238381385803,0.01749071292579174,-0.18588224053382874,-0.08327433466911316,-0.7870847582817078,0.11906131356954575,0.017916660755872726,0.6584529876708984,0.13853950798511505,-0.2876901924610138,-0.015913808718323708,-0.2045745700597763,-0.17991800606250763,-0.15798534452915192,0.314710795879364,0.09534274786710739,-0.039723195135593414,-0.19120018184185028,0.055191703140735626,-0.47113245725631714,0.10309635102748871,0.17342603206634521,1.1721928119659424,0.02742212451994419,0.08125434070825577,-0.06803236901760101,-0.40102869272232056,0.0011087299790233374,0.08172320574522018,-0.007650549057871103,-0.0349215604364872,-0.21329548954963684,0.08998403698205948,-0.2484341412782669,0.10816513746976852,-0.27477961778640747,0.20580923557281494,-0.061398185789585114,0.0497615821659565,-0.10320929437875748,-0.19029763340950012,-0.22132478654384613,0.2732104957103729,-0.017978345975279808,-0.09041012823581696,0.052650704979896545,0.4171971082687378,-0.20873196423053741,-0.3514159917831421,-0.12235768139362335,0.15179042518138885,-0.17961890995502472,-0.07939265668392181,-0.02252560295164585,-0.0032229453790932894,-0.3648855984210968,0.01780344545841217,0.6078152060508728,-0.016050316393375397,0.11854302138090134,-0.4991711676120758,0.04301672428846359,0.31732338666915894,-0.6399720311164856,0.30522337555885315,0.04664481803774834,-0.4761323630809784,-0.10920871049165726,-0.20475701987743378,0.2680736482143402,0.10779419541358948,-0.21099543571472168,-0.8299798965454102,0.09682399034500122,-0.012848617509007454,-0.11669899523258209,-0.5014544129371643,-0.38426709175109863,-0.2991048991680145,-0.1020563468337059,0.1605626940727234,0.02097567729651928,0.09333720803260803,0.1686963587999344,-0.9233603477478027,-0.2996145486831665,-0.21264483034610748,-0.3864891231060028,-0.2733730971813202,0.1427772492170334,-0.04207434877753258,-0.016673672944307327,-0.27069419622421265,-0.43270108103752136,0.08713898807764053,0.15480154752731323,-0.2233092486858368,-0.0988895520567894,0.21040716767311096,-0.02621815912425518,-0.060770433396101,-0.4361964762210846,0.0034699717070907354,0.1860032081604004,0.08182055503129959,-0.0476192831993103,-0.23835697770118713,0.08656375110149384,0.3688972294330597,0.17276793718338013,-0.034419506788253784,-0.32616478204727173,0.20526465773582458,0.06172332912683487,-0.11792941391468048,-0.007812505587935448,0.7637883424758911,-0.14744162559509277,0.2637219727039337,0.22801220417022705,0.014086275361478329,0.07968132197856903,-0.1872507780790329,0.23324719071388245,-0.484154611825943,-0.05552859231829643,0.21969860792160034,0.16133663058280945,-0.1550469845533371,-0.17886105179786682,0.21347400546073914,0.3489418923854828,-0.07482720166444778,-0.08992861956357956,0.15812991559505463,-0.04380837827920914,0.09818793833255768,-0.29960349202156067,0.08941378444433212,0.1336250603199005,0.0716448426246643,0.1628987342119217,-0.20290635526180267,-0.2797759175300598,-0.014200389385223389,-0.13121700286865234,-0.12118703126907349,0.1256691813468933,-0.06124110519886017,0.325501948595047,-0.04655540734529495,0.21849648654460907,-0.26689451932907104,-0.25002333521842957,-0.19777505099773407,-0.21366135776042938,-0.2754092812538147,-0.021029140800237656,-0.21102645993232727,0.2551962435245514,-0.18244300782680511,-0.1571793258190155,-0.06255576014518738,-0.13186036050319672,-0.024262618273496628,-0.07598015666007996,-0.05491833761334419,-0.016034118831157684,-0.13410373032093048,0.20974954962730408,1.1548469066619873,0.20184630155563354,-0.16596265137195587,0.17998173832893372,-0.19597309827804565,-0.05759420990943909,0.2928833067417145,0.21418635547161102,-0.0706021636724472,-0.20033706724643707,-0.01636914536356926,0.13527227938175201,0.3808833360671997,-0.5678072571754456,-0.016682997345924377,0.28623154759407043,1.1943302154541016,-0.1881384253501892,-0.023711707442998886,-0.03541106358170509,-0.1061021089553833,0.266817569732666,0.11670651286840439,0.26102447509765625,0.38806211948394775,0.09994381666183472,-0.18566828966140747,0.17161554098129272,0.31380173563957214,0.1842038482427597,0.13795746862888336,-0.02465054579079151,0.019835995510220528,0.17740248143672943,-0.38797298073768616,0.4958503246307373,0.06148926913738251,-0.06921081244945526,0.38845282793045044,0.03292645886540413,-0.18846707046031952,-0.1921108514070511,0.4307718575000763,0.14853961765766144,0.5848086476325989,-0.09343456476926804,-0.10629540681838989,-0.013710048981010914,0.19144807755947113,-0.051128242164850235,0.09295012801885605,-0.039908651262521744,0.09735020250082016,0.10539117455482483,0.08789283782243729,0.07998359203338623,0.38518640398979187,-0.2523839771747589,-0.08484536409378052,0.016616003587841988,-0.653140664100647,0.14964239299297333,-0.12840518355369568,-0.10359221696853638,-0.13901296257972717,-0.16562166810035706,0.05748889222741127,0.04216929152607918,0.22548256814479828,0.044079121202230453,0.0344136580824852,-0.04501570388674736,0.2571856379508972,0.32800230383872986,-0.0812879130244255,0.06959611922502518,-0.058805327862501144,0.03976522386074066,0.08511611819267273,-0.15526819229125977,-0.24473461508750916,0.3788049519062042,0.004696581047028303,0.07370056957006454,0.5507549047470093,0.008898543193936348,-0.21285618841648102,0.08062302321195602,-0.446424663066864,0.06399845331907272,-0.23261234164237976,-0.24214968085289001,0.03708786889910698,-0.22128230333328247,0.3570777177810669,-0.2684176564216614,-0.5868914127349854,0.9938123822212219,0.18979720771312714,-0.06191626563668251,0.16672739386558533,-0.013868097215890884,0.09293820708990097,0.020109906792640686,0.010362104512751102,-1.2786357402801514,-0.11411605775356293,0.13182759284973145,0.1414058804512024,-0.057914674282073975,-0.04585821181535721,0.23612172901630402,-0.027399644255638123,-0.635769784450531,-0.14699451625347137,0.3225919306278229,0.005311979446560144,0.149306520819664,0.22933174669742584,0.007462357636541128,0.12509816884994507,-0.07045354694128036,-0.4242035150527954,0.2639540731906891,0.08931311964988708,0.21219760179519653,-0.23297838866710663,0.04257496818900108,0.38181981444358826,-0.06257756799459457,0.10503620654344559,0.06852524727582932,0.0735635831952095,0.08915495127439499,0.23373566567897797,-0.05485134571790695,0.4565280079841614,-0.4270082414150238,-0.10371609777212143,0.12887784838676453,0.552875816822052,-0.12132503092288971,-0.6593751311302185,0.03570941463112831,0.2945263981819153,0.044960737228393555,0.16772669553756714,0.058900363743305206,0.350440114736557,0.11178036034107208,0.12727448344230652,0.19679687917232513,-0.1925855576992035,0.032122813165187836,-0.17271031439304352,-0.41400429606437683,0.01642248034477234,0.02744596265256405,-0.37806200981140137,0.033137138932943344,0.11029813438653946,-0.02289479225873947,0.06447643041610718,-0.039731357246637344,-0.11466310173273087,0.0315924771130085,0.07633072137832642,0.16422170400619507,-0.06723959743976593,-0.5620511174201965,-0.24279719591140747,-0.3723506033420563,-0.14156673848628998,0.07180971652269363,0.289462149143219,-0.0029673948884010315,0.003927392885088921,-0.2724080979824066,0.0920058935880661,-0.13796783983707428,-0.08216772228479385,0.020107345655560493,-0.0908595472574234,0.3389245867729187,0.07508975267410278,0.3342895209789276,-0.4046415388584137,-0.2503682076931,0.02828391082584858,0.019902631640434265,0.33695095777511597,-0.14194422960281372,-0.09911049902439117,0.1634214073419571,0.16636407375335693,0.05827018618583679,0.06337375938892365,0.05852552503347397,-0.14314325153827667,0.022331831976771355,-0.26504287123680115,-0.9081497192382812,-0.15351910889148712,-0.07679715752601624,0.5372166037559509,-0.21363623440265656,-0.1455838978290558,-0.3433549404144287,-0.4185357391834259,-0.4373031258583069,-0.019037198275327682,0.30960801243782043,0.230531707406044,0.19365450739860535,-0.22098183631896973,0.1978703737258911,-0.2074931561946869,0.062070854008197784,0.34412845969200134,-0.09227228909730911,-0.43733808398246765,-0.19836066663265228,-0.17992177605628967,0.16804662346839905,0.032547250390052795,-0.13402004539966583,-0.010412534698843956,0.09825554490089417,0.21248118579387665,0.008659019134938717,-0.20055118203163147,0.09526456892490387,0.10166331380605698,0.2310466468334198,-0.15569980442523956,0.34656479954719543,0.04280536249279976,0.23875515162944794,-0.16888178884983063,-0.01861843466758728,0.15746964514255524,-0.08623234182596207,-0.000881298677995801,0.31147485971450806,0.03451555222272873,0.2296810746192932,0.3022613823413849,0.06691592931747437,0.15989157557487488,-0.007239864207804203,-0.10234186798334122,0.11945665627717972,0.23630402982234955,-0.14170582592487335,-0.8025292158126831,0.13819637894630432,0.040896303951740265,0.37990623712539673,-0.1542503982782364,-0.1777050942182541,0.022716566920280457,-0.19358332455158234,0.31125858426094055,-0.06232776492834091,-0.10459675639867783,0.03945141285657883,-0.38294896483421326,-0.09585630893707275,0.27563780546188354,-0.06391990929841995,-0.277250200510025,-0.42298051714897156,0.17764753103256226,-0.03912863880395889,0.2365480214357376,0.06534820795059204,-0.18173004686832428,-0.0520571768283844,0.16691671311855316,-0.14319005608558655,-0.08518679440021515,0.08696756511926651,-0.4445782005786896,0.5338461399078369,-0.11189798265695572,0.057215820997953415,0.027705954387784004,0.10149203985929489,-0.16936202347278595,-0.11120373755693436,-0.15875144302845,0.15648306906223297,-0.016835832968354225,-0.256033718585968,0.03465588018298149,0.17693941295146942,-0.27328920364379883,-0.44000229239463806,0.4702179729938507,-0.27142396569252014,0.05499142035841942,-0.1103348359465599,-0.3038538992404938,-0.47842127084732056,0.1875682920217514,0.11242440342903137,0.36149510741233826],\"y\":[0.20834775269031525,0.17556440830230713,-0.003809937508776784,-0.04335407540202141,0.2310081273317337,-0.03385164588689804,0.1352672576904297,-0.14678475260734558,-0.2832237482070923,-0.19215382635593414,0.5045624375343323,-0.16470932960510254,0.33065155148506165,0.00411898922175169,0.69968181848526,0.2980364263057709,-0.27603617310523987,-0.05083983391523361,0.24687924981117249,-0.24560904502868652,0.0024409047327935696,-0.24256061017513275,0.10828875005245209,0.1337043046951294,0.08122112601995468,-0.2371598333120346,-0.05758598446846008,-0.7421135306358337,0.19734469056129456,-0.033972740173339844,0.6592997312545776,0.11481381952762604,-0.25078538060188293,0.022400859743356705,-0.24693015217781067,-0.13910247385501862,-0.1265791952610016,0.35259732604026794,0.14731869101524353,-0.016408231109380722,-0.18845944106578827,0.041859935969114304,-0.522570013999939,0.14036446809768677,0.1876949667930603,1.2192238569259644,0.06498411297798157,0.12443540245294571,-0.05769781023263931,-0.39917534589767456,-0.04363780468702316,0.18038325011730194,0.04842965677380562,-0.06414502114057541,-0.25117209553718567,0.1290854960680008,-0.23558565974235535,0.134220689535141,-0.36124396324157715,0.17711906135082245,-0.07533948123455048,0.026605652645230293,-0.0825294479727745,-0.16387248039245605,-0.18504634499549866,0.3261440098285675,0.05295810475945473,-0.0491473488509655,0.12883952260017395,0.4805227220058441,-0.14247927069664001,-0.3439736068248749,-0.04622630402445793,0.08128579705953598,-0.2557428777217865,-0.10491342842578888,-0.011533594690263271,0.07329945266246796,-0.3465219736099243,-0.03409317135810852,0.6222395300865173,-0.0453299880027771,0.1476951539516449,-0.5584955811500549,-0.035881564021110535,0.3776018023490906,-0.6930592656135559,0.4046194851398468,-0.00030325035913847387,-0.561255931854248,-0.11645617336034775,-0.20128794014453888,0.2645457983016968,0.13865236937999725,-0.13606643676757812,-0.9365007281303406,0.1694711446762085,-0.062095943838357925,-0.17463940382003784,-0.578738272190094,-0.3983849883079529,-0.32936614751815796,-0.13803379237651825,0.17510756850242615,0.0855439081788063,0.08065521717071533,0.22317767143249512,-0.9260134100914001,-0.29404017329216003,-0.22922439873218536,-0.4146113097667694,-0.23568084836006165,0.1825840026140213,-0.019569911062717438,-0.058262135833501816,-0.2833124101161957,-0.48932790756225586,0.06814838945865631,0.08745549619197845,-0.22684705257415771,-0.13138195872306824,0.19203582406044006,0.009819270111620426,-0.06688904762268066,-0.43856170773506165,0.016880344599485397,0.19861212372779846,0.12002730369567871,-0.052297983318567276,-0.2203681319952011,0.12804046273231506,0.3316909968852997,0.22125153243541718,-0.002132228808477521,-0.3398647904396057,0.2235010266304016,0.09018070250749588,-0.0809890627861023,0.06187060475349426,0.7621767520904541,-0.19841845333576202,0.3002009093761444,0.18644531071186066,0.056168217211961746,0.09467919915914536,-0.1637883335351944,0.21971620619297028,-0.5268815755844116,-0.088355652987957,0.20324566960334778,0.1870459020137787,-0.08163361251354218,-0.13190266489982605,0.23718242347240448,0.4108729362487793,-0.042355362325906754,-0.01894022710621357,0.17323504388332367,-0.11611494421958923,0.11667141318321228,-0.32747387886047363,0.07087621092796326,0.17613616585731506,0.04805292561650276,0.13054417073726654,-0.21254901587963104,-0.28874412178993225,0.07194861024618149,-0.13296687602996826,-0.1190817579627037,0.14300505816936493,-0.0820205956697464,0.2984628975391388,-0.0748930349946022,0.23595623672008514,-0.25798773765563965,-0.26117074489593506,-0.20965875685214996,-0.2171667069196701,-0.31984129548072815,0.03577643260359764,-0.22692212462425232,0.22803474962711334,-0.18852221965789795,-0.11340922117233276,-0.11104883998632431,-0.07928623259067535,-0.006582989823073149,-0.05177769809961319,-0.0366184264421463,0.007298656273633242,-0.15403908491134644,0.24182112514972687,1.2329729795455933,0.16922716796398163,-0.1933850347995758,0.16507963836193085,-0.2835327982902527,-0.02058340050280094,0.2852140963077545,0.19528299570083618,-0.09460747987031937,-0.20603621006011963,-0.05676428973674774,0.11494951695203781,0.37454384565353394,-0.6012166738510132,-0.07513715326786041,0.27584612369537354,1.1914935111999512,-0.22362510859966278,0.005764970555901527,-0.11925423890352249,-0.1418672353029251,0.27669838070869446,0.09404801577329636,0.2728709578514099,0.4229811131954193,0.15357214212417603,-0.21754127740859985,0.22633662819862366,0.33270835876464844,0.16734522581100464,0.1853483021259308,0.013895795680582523,-0.013020508922636509,0.14433252811431885,-0.4396924674510956,0.5156168341636658,0.06631328165531158,-0.07347333431243896,0.3662581741809845,0.04491120204329491,-0.20840167999267578,-0.1718861609697342,0.4941711127758026,0.12725354731082916,0.6331855058670044,-0.11077442765235901,-0.16027383506298065,-0.015789609402418137,0.24122969806194305,-0.079558365046978,0.059873804450035095,-0.0418047271668911,0.11747296154499054,0.10337447375059128,0.01695978082716465,0.00930746365338564,0.35200873017311096,-0.2622038722038269,-0.04525076225399971,0.04471323639154434,-0.6471821665763855,0.1562405228614807,-0.08728479593992233,-0.10707104951143265,-0.152590811252594,-0.16279615461826324,0.13012608885765076,0.10680010169744492,0.19560633599758148,0.05230354517698288,0.07621992379426956,-0.08365660905838013,0.22322988510131836,0.31436169147491455,-0.1066347062587738,0.0432000607252121,-0.025930264964699745,0.018533702939748764,0.06180869787931442,-0.119908906519413,-0.3040851652622223,0.3388388454914093,0.06978808343410492,0.12051253765821457,0.5271303057670593,0.09302873909473419,-0.26327037811279297,0.061887506395578384,-0.4697693884372711,0.009931362234055996,-0.21502375602722168,-0.19458653032779694,-0.011508583091199398,-0.2825234532356262,0.3770730793476105,-0.27153316140174866,-0.5959534049034119,1.010818600654602,0.17475515604019165,-0.08126597851514816,0.18571063876152039,0.03761111944913864,0.027376195415854454,-0.005407543387264013,0.04502718523144722,-1.3384897708892822,-0.06968849897384644,0.07212017476558685,0.1858006715774536,-0.0809091329574585,-0.09818852692842484,0.2608751654624939,0.01599568873643875,-0.6783108115196228,-0.1746106743812561,0.3348292410373688,0.10134096443653107,0.21811287105083466,0.32085996866226196,-0.009176896885037422,0.11840757727622986,-0.07577960938215256,-0.4885537326335907,0.2948141396045685,0.02605515345931053,0.20734073221683502,-0.2192334681749344,0.015229498967528343,0.4175957143306732,-0.07205647975206375,0.136337012052536,0.01742846891283989,0.12158554047346115,0.047257859259843826,0.18146531283855438,-0.07134310901165009,0.5469215512275696,-0.46700572967529297,-0.1559968739748001,0.10685896873474121,0.5679197311401367,-0.07501892000436783,-0.6387544274330139,0.09960165619850159,0.2870156168937683,0.0679045245051384,0.14527027308940887,0.06447934359312057,0.3309691548347473,0.1299823522567749,0.12016548216342926,0.1665055900812149,-0.1342199742794037,0.05411654710769653,-0.19208195805549622,-0.4559463560581207,0.0027621083427220583,0.03986777737736702,-0.3455735743045807,0.0720595270395279,0.07101234048604965,-0.0493437759578228,0.08100340515375137,-0.08380261808633804,-0.1392846256494522,0.022524811327457428,0.06181831285357475,0.19717499613761902,-0.15923164784908295,-0.5869205594062805,-0.2736576199531555,-0.3612794280052185,-0.1782579869031906,0.11626861244440079,0.28787171840667725,-0.018636712804436684,-0.07503055781126022,-0.24159739911556244,0.06078879535198212,-0.15732599794864655,-0.04061073437333107,0.04109570011496544,-0.11949047446250916,0.3808547854423523,0.03812958672642708,0.3399593234062195,-0.3582198917865753,-0.22248397767543793,0.08479378372430801,0.01779603213071823,0.3690531253814697,-0.1767318695783615,-0.12455306202173233,0.18127860128879547,0.09971487522125244,0.03002164512872696,0.03029879741370678,0.0032364665530622005,-0.10913451761007309,0.03825810179114342,-0.2584836483001709,-0.935886025428772,-0.1361803114414215,-0.04265151172876358,0.5107395052909851,-0.2551026940345764,-0.15677706897258759,-0.4241763949394226,-0.49789300560951233,-0.39029040932655334,-0.04274030029773712,0.34722021222114563,0.2096615582704544,0.19724605977535248,-0.13558056950569153,0.1726396083831787,-0.16097339987754822,0.1375584453344345,0.2923380136489868,-0.06429855525493622,-0.4862811863422394,-0.25779613852500916,-0.188742533326149,0.14724574983119965,0.054584793746471405,-0.1508757770061493,-0.06648081541061401,0.1801823526620865,0.18626248836517334,0.036898355931043625,-0.2283315360546112,0.14620856940746307,0.1936754286289215,0.23021267354488373,-0.23771357536315918,0.37940269708633423,0.014527843333780766,0.2277432233095169,-0.1758192628622055,0.003764948109164834,0.20837683975696564,-0.06570860743522644,-0.012617319822311401,0.3528411090373993,0.11166611313819885,0.29423338174819946,0.2418738752603531,0.0723547488451004,0.23573212325572968,-0.014715403318405151,-0.08663420379161835,0.07560529559850693,0.2160026729106903,-0.1218947097659111,-0.7751967906951904,0.11018924415111542,-0.045856937766075134,0.4573994278907776,-0.2268517166376114,-0.16263116896152496,-0.0012441134313121438,-0.2966904938220978,0.3089369833469391,-0.0544256865978241,-0.11552341282367706,0.014906520023941994,-0.44081565737724304,-0.14988435804843903,0.2187533974647522,-0.08753759413957596,-0.289016991853714,-0.5264971852302551,0.15477707982063293,0.013793298974633217,0.14827357232570648,0.08251024782657623,-0.22225692868232727,-0.06814586371183395,0.24597832560539246,-0.11434885859489441,-0.1363196074962616,0.1150321289896965,-0.4804258942604065,0.5638275146484375,-0.0387985035777092,0.06962523609399796,-0.027954330667853355,0.14148087799549103,-0.2170034795999527,-0.12307197600603104,-0.25609278678894043,0.09386340528726578,0.04171672463417053,-0.32197457551956177,0.016457565128803253,0.17545443773269653,-0.2916552424430847,-0.4460086524486542,0.4646960496902466,-0.28298309445381165,0.05693518742918968,-0.035290833562612534,-0.32285770773887634,-0.45389994978904724,0.21019361913204193,0.08810656517744064,0.3950829803943634],\"type\":\"scatter\"}],                        {\"hovermode\":\"closest\",\"title\":{\"text\":\"Word Embeddings\"},\"template\":{\"data\":{\"histogram2dcontour\":[{\"type\":\"histogram2dcontour\",\"colorbar\":{\"outlinewidth\":0,\"ticks\":\"\"},\"colorscale\":[[0.0,\"#0d0887\"],[0.1111111111111111,\"#46039f\"],[0.2222222222222222,\"#7201a8\"],[0.3333333333333333,\"#9c179e\"],[0.4444444444444444,\"#bd3786\"],[0.5555555555555556,\"#d8576b\"],[0.6666666666666666,\"#ed7953\"],[0.7777777777777778,\"#fb9f3a\"],[0.8888888888888888,\"#fdca26\"],[1.0,\"#f0f921\"]]}],\"choropleth\":[{\"type\":\"choropleth\",\"colorbar\":{\"outlinewidth\":0,\"ticks\":\"\"}}],\"histogram2d\":[{\"type\":\"histogram2d\",\"colorbar\":{\"outlinewidth\":0,\"ticks\":\"\"},\"colorscale\":[[0.0,\"#0d0887\"],[0.1111111111111111,\"#46039f\"],[0.2222222222222222,\"#7201a8\"],[0.3333333333333333,\"#9c179e\"],[0.4444444444444444,\"#bd3786\"],[0.5555555555555556,\"#d8576b\"],[0.6666666666666666,\"#ed7953\"],[0.7777777777777778,\"#fb9f3a\"],[0.8888888888888888,\"#fdca26\"],[1.0,\"#f0f921\"]]}],\"heatmap\":[{\"type\":\"heatmap\",\"colorbar\":{\"outlinewidth\":0,\"ticks\":\"\"},\"colorscale\":[[0.0,\"#0d0887\"],[0.1111111111111111,\"#46039f\"],[0.2222222222222222,\"#7201a8\"],[0.3333333333333333,\"#9c179e\"],[0.4444444444444444,\"#bd3786\"],[0.5555555555555556,\"#d8576b\"],[0.6666666666666666,\"#ed7953\"],[0.7777777777777778,\"#fb9f3a\"],[0.8888888888888888,\"#fdca26\"],[1.0,\"#f0f921\"]]}],\"heatmapgl\":[{\"type\":\"heatmapgl\",\"colorbar\":{\"outlinewidth\":0,\"ticks\":\"\"},\"colorscale\":[[0.0,\"#0d0887\"],[0.1111111111111111,\"#46039f\"],[0.2222222222222222,\"#7201a8\"],[0.3333333333333333,\"#9c179e\"],[0.4444444444444444,\"#bd3786\"],[0.5555555555555556,\"#d8576b\"],[0.6666666666666666,\"#ed7953\"],[0.7777777777777778,\"#fb9f3a\"],[0.8888888888888888,\"#fdca26\"],[1.0,\"#f0f921\"]]}],\"contourcarpet\":[{\"type\":\"contourcarpet\",\"colorbar\":{\"outlinewidth\":0,\"ticks\":\"\"}}],\"contour\":[{\"type\":\"contour\",\"colorbar\":{\"outlinewidth\":0,\"ticks\":\"\"},\"colorscale\":[[0.0,\"#0d0887\"],[0.1111111111111111,\"#46039f\"],[0.2222222222222222,\"#7201a8\"],[0.3333333333333333,\"#9c179e\"],[0.4444444444444444,\"#bd3786\"],[0.5555555555555556,\"#d8576b\"],[0.6666666666666666,\"#ed7953\"],[0.7777777777777778,\"#fb9f3a\"],[0.8888888888888888,\"#fdca26\"],[1.0,\"#f0f921\"]]}],\"surface\":[{\"type\":\"surface\",\"colorbar\":{\"outlinewidth\":0,\"ticks\":\"\"},\"colorscale\":[[0.0,\"#0d0887\"],[0.1111111111111111,\"#46039f\"],[0.2222222222222222,\"#7201a8\"],[0.3333333333333333,\"#9c179e\"],[0.4444444444444444,\"#bd3786\"],[0.5555555555555556,\"#d8576b\"],[0.6666666666666666,\"#ed7953\"],[0.7777777777777778,\"#fb9f3a\"],[0.8888888888888888,\"#fdca26\"],[1.0,\"#f0f921\"]]}],\"mesh3d\":[{\"type\":\"mesh3d\",\"colorbar\":{\"outlinewidth\":0,\"ticks\":\"\"}}],\"scatter\":[{\"fillpattern\":{\"fillmode\":\"overlay\",\"size\":10,\"solidity\":0.2},\"type\":\"scatter\"}],\"parcoords\":[{\"type\":\"parcoords\",\"line\":{\"colorbar\":{\"outlinewidth\":0,\"ticks\":\"\"}}}],\"scatterpolargl\":[{\"type\":\"scatterpolargl\",\"marker\":{\"colorbar\":{\"outlinewidth\":0,\"ticks\":\"\"}}}],\"bar\":[{\"error_x\":{\"color\":\"#2a3f5f\"},\"error_y\":{\"color\":\"#2a3f5f\"},\"marker\":{\"line\":{\"color\":\"#E5ECF6\",\"width\":0.5},\"pattern\":{\"fillmode\":\"overlay\",\"size\":10,\"solidity\":0.2}},\"type\":\"bar\"}],\"scattergeo\":[{\"type\":\"scattergeo\",\"marker\":{\"colorbar\":{\"outlinewidth\":0,\"ticks\":\"\"}}}],\"scatterpolar\":[{\"type\":\"scatterpolar\",\"marker\":{\"colorbar\":{\"outlinewidth\":0,\"ticks\":\"\"}}}],\"histogram\":[{\"marker\":{\"pattern\":{\"fillmode\":\"overlay\",\"size\":10,\"solidity\":0.2}},\"type\":\"histogram\"}],\"scattergl\":[{\"type\":\"scattergl\",\"marker\":{\"colorbar\":{\"outlinewidth\":0,\"ticks\":\"\"}}}],\"scatter3d\":[{\"type\":\"scatter3d\",\"line\":{\"colorbar\":{\"outlinewidth\":0,\"ticks\":\"\"}},\"marker\":{\"colorbar\":{\"outlinewidth\":0,\"ticks\":\"\"}}}],\"scattermapbox\":[{\"type\":\"scattermapbox\",\"marker\":{\"colorbar\":{\"outlinewidth\":0,\"ticks\":\"\"}}}],\"scatterternary\":[{\"type\":\"scatterternary\",\"marker\":{\"colorbar\":{\"outlinewidth\":0,\"ticks\":\"\"}}}],\"scattercarpet\":[{\"type\":\"scattercarpet\",\"marker\":{\"colorbar\":{\"outlinewidth\":0,\"ticks\":\"\"}}}],\"carpet\":[{\"aaxis\":{\"endlinecolor\":\"#2a3f5f\",\"gridcolor\":\"white\",\"linecolor\":\"white\",\"minorgridcolor\":\"white\",\"startlinecolor\":\"#2a3f5f\"},\"baxis\":{\"endlinecolor\":\"#2a3f5f\",\"gridcolor\":\"white\",\"linecolor\":\"white\",\"minorgridcolor\":\"white\",\"startlinecolor\":\"#2a3f5f\"},\"type\":\"carpet\"}],\"table\":[{\"cells\":{\"fill\":{\"color\":\"#EBF0F8\"},\"line\":{\"color\":\"white\"}},\"header\":{\"fill\":{\"color\":\"#C8D4E3\"},\"line\":{\"color\":\"white\"}},\"type\":\"table\"}],\"barpolar\":[{\"marker\":{\"line\":{\"color\":\"#E5ECF6\",\"width\":0.5},\"pattern\":{\"fillmode\":\"overlay\",\"size\":10,\"solidity\":0.2}},\"type\":\"barpolar\"}],\"pie\":[{\"automargin\":true,\"type\":\"pie\"}]},\"layout\":{\"autotypenumbers\":\"strict\",\"colorway\":[\"#636efa\",\"#EF553B\",\"#00cc96\",\"#ab63fa\",\"#FFA15A\",\"#19d3f3\",\"#FF6692\",\"#B6E880\",\"#FF97FF\",\"#FECB52\"],\"font\":{\"color\":\"#2a3f5f\"},\"hovermode\":\"closest\",\"hoverlabel\":{\"align\":\"left\"},\"paper_bgcolor\":\"white\",\"plot_bgcolor\":\"#E5ECF6\",\"polar\":{\"bgcolor\":\"#E5ECF6\",\"angularaxis\":{\"gridcolor\":\"white\",\"linecolor\":\"white\",\"ticks\":\"\"},\"radialaxis\":{\"gridcolor\":\"white\",\"linecolor\":\"white\",\"ticks\":\"\"}},\"ternary\":{\"bgcolor\":\"#E5ECF6\",\"aaxis\":{\"gridcolor\":\"white\",\"linecolor\":\"white\",\"ticks\":\"\"},\"baxis\":{\"gridcolor\":\"white\",\"linecolor\":\"white\",\"ticks\":\"\"},\"caxis\":{\"gridcolor\":\"white\",\"linecolor\":\"white\",\"ticks\":\"\"}},\"coloraxis\":{\"colorbar\":{\"outlinewidth\":0,\"ticks\":\"\"}},\"colorscale\":{\"sequential\":[[0.0,\"#0d0887\"],[0.1111111111111111,\"#46039f\"],[0.2222222222222222,\"#7201a8\"],[0.3333333333333333,\"#9c179e\"],[0.4444444444444444,\"#bd3786\"],[0.5555555555555556,\"#d8576b\"],[0.6666666666666666,\"#ed7953\"],[0.7777777777777778,\"#fb9f3a\"],[0.8888888888888888,\"#fdca26\"],[1.0,\"#f0f921\"]],\"sequentialminus\":[[0.0,\"#0d0887\"],[0.1111111111111111,\"#46039f\"],[0.2222222222222222,\"#7201a8\"],[0.3333333333333333,\"#9c179e\"],[0.4444444444444444,\"#bd3786\"],[0.5555555555555556,\"#d8576b\"],[0.6666666666666666,\"#ed7953\"],[0.7777777777777778,\"#fb9f3a\"],[0.8888888888888888,\"#fdca26\"],[1.0,\"#f0f921\"]],\"diverging\":[[0,\"#8e0152\"],[0.1,\"#c51b7d\"],[0.2,\"#de77ae\"],[0.3,\"#f1b6da\"],[0.4,\"#fde0ef\"],[0.5,\"#f7f7f7\"],[0.6,\"#e6f5d0\"],[0.7,\"#b8e186\"],[0.8,\"#7fbc41\"],[0.9,\"#4d9221\"],[1,\"#276419\"]]},\"xaxis\":{\"gridcolor\":\"white\",\"linecolor\":\"white\",\"ticks\":\"\",\"title\":{\"standoff\":15},\"zerolinecolor\":\"white\",\"automargin\":true,\"zerolinewidth\":2},\"yaxis\":{\"gridcolor\":\"white\",\"linecolor\":\"white\",\"ticks\":\"\",\"title\":{\"standoff\":15},\"zerolinecolor\":\"white\",\"automargin\":true,\"zerolinewidth\":2},\"scene\":{\"xaxis\":{\"backgroundcolor\":\"#E5ECF6\",\"gridcolor\":\"white\",\"linecolor\":\"white\",\"showbackground\":true,\"ticks\":\"\",\"zerolinecolor\":\"white\",\"gridwidth\":2},\"yaxis\":{\"backgroundcolor\":\"#E5ECF6\",\"gridcolor\":\"white\",\"linecolor\":\"white\",\"showbackground\":true,\"ticks\":\"\",\"zerolinecolor\":\"white\",\"gridwidth\":2},\"zaxis\":{\"backgroundcolor\":\"#E5ECF6\",\"gridcolor\":\"white\",\"linecolor\":\"white\",\"showbackground\":true,\"ticks\":\"\",\"zerolinecolor\":\"white\",\"gridwidth\":2}},\"shapedefaults\":{\"line\":{\"color\":\"#2a3f5f\"}},\"annotationdefaults\":{\"arrowcolor\":\"#2a3f5f\",\"arrowhead\":0,\"arrowwidth\":1},\"geo\":{\"bgcolor\":\"white\",\"landcolor\":\"#E5ECF6\",\"subunitcolor\":\"white\",\"showland\":true,\"showlakes\":true,\"lakecolor\":\"white\"},\"title\":{\"x\":0.05},\"mapbox\":{\"style\":\"light\"}}}},                        {\"responsive\": true}                    ).then(function(){\n",
              "                            \n",
              "var gd = document.getElementById('8a1e1337-15dc-44ba-a517-2d6975502231');\n",
              "var x = new MutationObserver(function (mutations, observer) {{\n",
              "        var display = window.getComputedStyle(gd).display;\n",
              "        if (!display || display === 'none') {{\n",
              "            console.log([gd, 'removed!']);\n",
              "            Plotly.purge(gd);\n",
              "            observer.disconnect();\n",
              "        }}\n",
              "}});\n",
              "\n",
              "// Listen for the removal of the full notebook cells\n",
              "var notebookContainer = gd.closest('#notebook-container');\n",
              "if (notebookContainer) {{\n",
              "    x.observe(notebookContainer, {childList: true});\n",
              "}}\n",
              "\n",
              "// Listen for the clearing of the current output cell\n",
              "var outputEl = gd.closest('.output');\n",
              "if (outputEl) {{\n",
              "    x.observe(outputEl, {childList: true});\n",
              "}}\n",
              "\n",
              "                        })                };                            </script>        </div>\n",
              "</body>\n",
              "</html>"
            ]
          },
          "metadata": {}
        }
      ],
      "source": [
        "def plot_2d_embeddings(embeddings, id_start=1, count=100):\n",
        "  # Get 1st and 2nd embedding dims for the desired tokens.\n",
        "  x1 = embeddings[id_start:id_start+count, 0]\n",
        "  x2 = embeddings[id_start:id_start+count, 1]\n",
        "\n",
        "  # Get the corresponding words from the reverse index (for labeling).\n",
        "  tokens = [reverse_index[i] for i in range(id_start, id_start+count)]\n",
        "\n",
        "  # Plot with the plotly library.\n",
        "  data = plotly.Scatter(x=x1, y=x2, text=tokens,\n",
        "                        mode='markers', textposition='bottom left',\n",
        "                        hoverinfo='text')\n",
        "  fig = plotly.Figure(data=[data],\n",
        "                      layout=plotly.Layout(title=\"Word Embeddings\",\n",
        "                                           hovermode='closest'))\n",
        "  fig.show()\n",
        "\n",
        "# Very frequent tokens tend to be more syntactic than semantic, so let's plot\n",
        "# some rarer words.\n",
        "plot_2d_embeddings(embeddings, id_start=500, count=500)"
      ]
    },
    {
      "cell_type": "code",
      "source": [],
      "metadata": {
        "id": "MwVWSJP1JQjf"
      },
      "execution_count": 22,
      "outputs": []
    },
    {
      "cell_type": "markdown",
      "metadata": {
        "id": "Z3Mm8MjRcZ20"
      },
      "source": [
        "---\n",
        "### Exercise 4: Interpreting Embeddings (20 points)\n",
        "Notice that the 2-D embeddings fall in a narrow diagonal band.\n",
        "\n",
        "1. Have the learned embeddings separated positive and negative words? What is the most negative word? Does this make sense?\n",
        "2. Give 2 examples of words that seem to have surprising embedding values and try to explain their positions. For example, what's going on with the tokens '7', '8', and '9'? What are two other surprising results?\n",
        "3. The embedding for 'crazy' is very close to (0,0). Explain what this means in terms of the model's output.\n",
        "4. Can you explain what you think the 2 learned embedding dimensions mean, if anything?"
      ]
    },
    {
      "cell_type": "markdown",
      "metadata": {
        "id": "x_qAAvvo2y3t"
      },
      "source": [
        "*Written answers:*\n",
        "\n",
        "1. In theroy there is seperation between positive an negative alough there looks like some tunning issues. The most negative word is 'avoid' and that doesnt feel very negative to me, but in the context of the code that might be the most significant.\n",
        "2.  the numbers 7,8,9 might be surrounded with other highly positive words and that is why they are boosted up. another suprising result to me is decent on the negative end and miss on the positive end.\n",
        "3. an output of (0, 0) for a word's embedding indicates that the model has learned an embedding for that word that is relatively neutral and does not strongly influence sentiment predictions.\n",
        "\n",
        "4. In my mind it comes out to what is negative and positive but it doesnt do an amazing job with the examples given. I did a little research and I think doing a PCA would be a great idea\n"
      ]
    },
    {
      "cell_type": "markdown",
      "metadata": {
        "id": "Lvsjbrst-eCf"
      },
      "source": [
        "---"
      ]
    },
    {
      "cell_type": "markdown",
      "metadata": {
        "id": "IXCitmUvxfwb"
      },
      "source": [
        "## Scaling Up!\n",
        "Remember how we limited our input sequences to 20 tokens and 1000 vocabulary entries? Let's see how well we can do using more data and bigger models (more parameters)."
      ]
    },
    {
      "cell_type": "markdown",
      "metadata": {
        "id": "OKZDEGS7xzr6"
      },
      "source": [
        "### Exercise 5: Improve Results (20 points)\n",
        "Using pieces of code from above, set up and train a model that improves the validation accuracy to at least 80%. You should include the following elements:\n",
        "\n",
        "1. Truncate and pad input to the desired length.\n",
        "2. Limit vocabulary to the desired size.\n",
        "3. Set up a model using embeddings.\n",
        "4. Add an additional layer or layers (after the embeddings layer and before the output layer).\n",
        "5. Evaluate on the test data. Remember to apply the same pre-processing to the test data. You can use model.evaluate()."
      ]
    },
    {
      "cell_type": "code",
      "execution_count": 23,
      "metadata": {
        "id": "ekbJ4sIq2hID",
        "colab": {
          "base_uri": "https://localhost:8080/",
          "height": 245
        },
        "outputId": "c3a2c8b0-43cf-4b86-bb5d-6cd6faead350"
      },
      "outputs": [
        {
          "output_type": "error",
          "ename": "NameError",
          "evalue": "ignored",
          "traceback": [
            "\u001b[0;31m---------------------------------------------------------------------------\u001b[0m",
            "\u001b[0;31mNameError\u001b[0m                                 Traceback (most recent call last)",
            "\u001b[0;32m<ipython-input-23-f55c562b3a74>\u001b[0m in \u001b[0;36m<cell line: 6>\u001b[0;34m()\u001b[0m\n\u001b[1;32m      4\u001b[0m \u001b[0;34m\u001b[0m\u001b[0m\n\u001b[1;32m      5\u001b[0m \u001b[0;31m# Truncate and pad the input sequences to the desired length\u001b[0m\u001b[0;34m\u001b[0m\u001b[0;34m\u001b[0m\u001b[0m\n\u001b[0;32m----> 6\u001b[0;31m \u001b[0mX_train_padded\u001b[0m \u001b[0;34m=\u001b[0m \u001b[0mpad_sequences\u001b[0m\u001b[0;34m(\u001b[0m\u001b[0mX_train\u001b[0m\u001b[0;34m,\u001b[0m \u001b[0mmaxlen\u001b[0m\u001b[0;34m=\u001b[0m\u001b[0msequence_length\u001b[0m\u001b[0;34m,\u001b[0m \u001b[0mpadding\u001b[0m\u001b[0;34m=\u001b[0m\u001b[0;34m'post'\u001b[0m\u001b[0;34m,\u001b[0m \u001b[0mtruncating\u001b[0m\u001b[0;34m=\u001b[0m\u001b[0;34m'post'\u001b[0m\u001b[0;34m)\u001b[0m\u001b[0;34m\u001b[0m\u001b[0;34m\u001b[0m\u001b[0m\n\u001b[0m\u001b[1;32m      7\u001b[0m \u001b[0mX_test_padded\u001b[0m \u001b[0;34m=\u001b[0m \u001b[0mpad_sequences\u001b[0m\u001b[0;34m(\u001b[0m\u001b[0mX_test\u001b[0m\u001b[0;34m,\u001b[0m \u001b[0mmaxlen\u001b[0m\u001b[0;34m=\u001b[0m\u001b[0msequence_length\u001b[0m\u001b[0;34m,\u001b[0m \u001b[0mpadding\u001b[0m\u001b[0;34m=\u001b[0m\u001b[0;34m'post'\u001b[0m\u001b[0;34m,\u001b[0m \u001b[0mtruncating\u001b[0m\u001b[0;34m=\u001b[0m\u001b[0;34m'post'\u001b[0m\u001b[0;34m)\u001b[0m\u001b[0;34m\u001b[0m\u001b[0;34m\u001b[0m\u001b[0m\n\u001b[1;32m      8\u001b[0m \u001b[0;34m\u001b[0m\u001b[0m\n",
            "\u001b[0;31mNameError\u001b[0m: name 'pad_sequences' is not defined"
          ]
        }
      ],
      "source": [
        "# Define the desired sequence length and vocabulary size\n",
        "sequence_length = 300\n",
        "vocab_size = 10000\n",
        "\n",
        "# Truncate and pad the input sequences to the desired length\n",
        "X_train_padded = pad_sequences(X_train, maxlen=sequence_length, padding='post', truncating='post')\n",
        "X_test_padded = pad_sequences(X_test, maxlen=sequence_length, padding='post', truncating='post')\n",
        "\n",
        "# Limit the vocabulary to the desired size\n",
        "X_train_reduced = limit_vocab(X_train_padded, max_token_id=vocab_size)\n",
        "X_test_reduced = limit_vocab(X_test_padded, max_token_id=vocab_size)\n",
        "\n",
        "# Set up a model using embeddings and additional layers\n",
        "model = tf.keras.Sequential()\n",
        "\n",
        "# Add an Embedding layer\n",
        "model.add(tf.keras.layers.Embedding(input_dim=vocab_size, output_dim=embedding_dim, input_length=sequence_length))\n",
        "\n",
        "# Add additional layers as needed. You can experiment with different architectures.\n",
        "model.add(tf.keras.layers.Flatten())\n",
        "model.add(tf.keras.layers.Dense(units=128, activation='relu'))\n",
        "model.add(tf.keras.layers.Dense(units=1, activation='sigmoid'))  # Output layer\n",
        "\n",
        "# Compile the model\n",
        "model.compile(loss='binary_crossentropy', optimizer='adam', metrics=['accuracy'])\n",
        "\n",
        "# Train the model\n",
        "history = model.fit(X_train_reduced, Y_train, epochs=5, batch_size=64, validation_split=0.1, verbose=1)\n",
        "\n",
        "# Evaluate the model on the test data\n",
        "test_loss, test_accuracy = model.evaluate(X_test_reduced, Y_test)\n",
        "\n",
        "print(\"Test Loss:\", test_loss)\n",
        "print(\"Test Accuracy:\", test_accuracy)\n",
        "\n",
        "# Display the model layers.\n",
        "display(model.layers)"
      ]
    },
    {
      "cell_type": "markdown",
      "metadata": {
        "id": "7EEJI9yC2jOJ"
      },
      "source": [
        "---"
      ]
    }
  ],
  "metadata": {
    "colab": {
      "provenance": []
    },
    "kernelspec": {
      "display_name": "Python 3",
      "language": "python",
      "name": "python3"
    },
    "language_info": {
      "codemirror_mode": {
        "name": "ipython",
        "version": 3
      },
      "file_extension": ".py",
      "mimetype": "text/x-python",
      "name": "python",
      "nbconvert_exporter": "python",
      "pygments_lexer": "ipython3",
      "version": "3.8.3"
    }
  },
  "nbformat": 4,
  "nbformat_minor": 0
}